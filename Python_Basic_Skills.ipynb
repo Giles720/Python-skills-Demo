{
 "cells": [
  {
   "cell_type": "markdown",
   "id": "1d8fcc21-b6aa-48e9-8754-43f1951d3055",
   "metadata": {
    "panel-layout": {
     "height": 60.616668701171875,
     "visible": true,
     "width": 100
    }
   },
   "source": [
    "# DEMONSTRATION OF BASIC PYTHON SKILLS FOR DATA ANALYSIS "
   ]
  },
  {
   "cell_type": "markdown",
   "id": "82056919-5962-4d83-9527-1b39f016df78",
   "metadata": {
    "panel-layout": {
     "height": 91.19999694824219,
     "visible": true,
     "width": 100
    }
   },
   "source": [
    "### Description:\n",
    "### A demonstration project designed to showcase foundational data analytics skills in Python using Jupyter Notebook, aimed at helping beginners understand core data management principles with sample datasets."
   ]
  },
  {
   "cell_type": "markdown",
   "id": "211db223-fe71-48b7-9822-3d81d8369740",
   "metadata": {
    "panel-layout": {
     "height": 50.850006103515625,
     "visible": true,
     "width": 100
    }
   },
   "source": [
    "## LIBRARIES"
   ]
  },
  {
   "cell_type": "code",
   "execution_count": 1,
   "id": "5feca82d-ba6e-48db-aa49-2460dfc44690",
   "metadata": {},
   "outputs": [],
   "source": [
    "import pandas as pd\n",
    "import numpy as np"
   ]
  },
  {
   "cell_type": "markdown",
   "id": "2e5ce797-2266-43f6-aca1-d48b8c9d73bf",
   "metadata": {
    "panel-layout": {
     "height": 60.616668701171875,
     "visible": true,
     "width": 100
    }
   },
   "source": [
    "# LOADING THE FIRST DATAFRAME [Sales_Data2.csv]"
   ]
  },
  {
   "cell_type": "code",
   "execution_count": 2,
   "id": "f1ab33bd-0760-4b62-815e-a0c5baf2d0c4",
   "metadata": {},
   "outputs": [],
   "source": [
    "df1 = pd.read_csv(\"C:/Users/user/Desktop/Sales_Data2.csv\")"
   ]
  },
  {
   "cell_type": "code",
   "execution_count": 3,
   "id": "abb61a1a-0943-451d-a6f9-c6984b37ab18",
   "metadata": {
    "panel-layout": {
     "height": 0,
     "visible": true,
     "width": 100
    }
   },
   "outputs": [
    {
     "name": "stdout",
     "output_type": "stream",
     "text": [
      "(20, 8)\n"
     ]
    }
   ],
   "source": [
    "print(df1.shape) # Checking the Shape of the Dataframe"
   ]
  },
  {
   "cell_type": "markdown",
   "id": "72a6ee2f-15c8-476d-812a-f344afc6d33e",
   "metadata": {
    "panel-layout": {
     "height": 50.850006103515625,
     "visible": true,
     "width": 100
    }
   },
   "source": [
    "## Displaying the first Dataframe"
   ]
  },
  {
   "cell_type": "code",
   "execution_count": 4,
   "id": "aa0c7f8c-bac7-444c-b15e-5ac00e14d068",
   "metadata": {
    "panel-layout": {
     "height": 578,
     "visible": true,
     "width": 100
    }
   },
   "outputs": [
    {
     "data": {
      "text/html": [
       "<div>\n",
       "<style scoped>\n",
       "    .dataframe tbody tr th:only-of-type {\n",
       "        vertical-align: middle;\n",
       "    }\n",
       "\n",
       "    .dataframe tbody tr th {\n",
       "        vertical-align: top;\n",
       "    }\n",
       "\n",
       "    .dataframe thead th {\n",
       "        text-align: right;\n",
       "    }\n",
       "</style>\n",
       "<table border=\"1\" class=\"dataframe\">\n",
       "  <thead>\n",
       "    <tr style=\"text-align: right;\">\n",
       "      <th></th>\n",
       "      <th>Order ID</th>\n",
       "      <th>Country</th>\n",
       "      <th>Item Type</th>\n",
       "      <th>Order Date</th>\n",
       "      <th>Ship Date</th>\n",
       "      <th>Quantity</th>\n",
       "      <th>Sales Price</th>\n",
       "      <th>Unit Cost</th>\n",
       "    </tr>\n",
       "  </thead>\n",
       "  <tbody>\n",
       "    <tr>\n",
       "      <th>0</th>\n",
       "      <td>451691138</td>\n",
       "      <td>Australia</td>\n",
       "      <td>Meat</td>\n",
       "      <td>4/4/2011</td>\n",
       "      <td>5/23/2011</td>\n",
       "      <td>4300</td>\n",
       "      <td>421.89</td>\n",
       "      <td>364.69</td>\n",
       "    </tr>\n",
       "    <tr>\n",
       "      <th>1</th>\n",
       "      <td>144177377</td>\n",
       "      <td>Tajikistan</td>\n",
       "      <td>Personal Care</td>\n",
       "      <td>7/12/2018</td>\n",
       "      <td>8/1/2018</td>\n",
       "      <td>4145</td>\n",
       "      <td>81.73</td>\n",
       "      <td>56.67</td>\n",
       "    </tr>\n",
       "    <tr>\n",
       "      <th>2</th>\n",
       "      <td>982716166</td>\n",
       "      <td>Mozambique</td>\n",
       "      <td>Cosmetics</td>\n",
       "      <td>7/6/2011</td>\n",
       "      <td>7/17/2011</td>\n",
       "      <td>6407</td>\n",
       "      <td>437.20</td>\n",
       "      <td>263.33</td>\n",
       "    </tr>\n",
       "    <tr>\n",
       "      <th>3</th>\n",
       "      <td>784543836</td>\n",
       "      <td>Panama</td>\n",
       "      <td>Personal Care</td>\n",
       "      <td>5/1/2011</td>\n",
       "      <td>5/11/2011</td>\n",
       "      <td>2810</td>\n",
       "      <td>81.73</td>\n",
       "      <td>56.67</td>\n",
       "    </tr>\n",
       "    <tr>\n",
       "      <th>4</th>\n",
       "      <td>137209212</td>\n",
       "      <td>Canada</td>\n",
       "      <td>Fruits</td>\n",
       "      <td>11/15/2013</td>\n",
       "      <td>12/29/2013</td>\n",
       "      <td>2110</td>\n",
       "      <td>9.33</td>\n",
       "      <td>6.92</td>\n",
       "    </tr>\n",
       "    <tr>\n",
       "      <th>5</th>\n",
       "      <td>148573625</td>\n",
       "      <td>Italy</td>\n",
       "      <td>Fruits</td>\n",
       "      <td>7/16/2016</td>\n",
       "      <td>7/18/2016</td>\n",
       "      <td>5092</td>\n",
       "      <td>9.33</td>\n",
       "      <td>6.92</td>\n",
       "    </tr>\n",
       "    <tr>\n",
       "      <th>6</th>\n",
       "      <td>196810901</td>\n",
       "      <td>Romania</td>\n",
       "      <td>Beverages</td>\n",
       "      <td>11/15/2012</td>\n",
       "      <td>12/1/2012</td>\n",
       "      <td>9574</td>\n",
       "      <td>47.45</td>\n",
       "      <td>31.79</td>\n",
       "    </tr>\n",
       "    <tr>\n",
       "      <th>7</th>\n",
       "      <td>180407369</td>\n",
       "      <td>Australia</td>\n",
       "      <td>Cosmetics</td>\n",
       "      <td>4/30/2019</td>\n",
       "      <td>5/25/2019</td>\n",
       "      <td>5404</td>\n",
       "      <td>437.20</td>\n",
       "      <td>263.33</td>\n",
       "    </tr>\n",
       "    <tr>\n",
       "      <th>8</th>\n",
       "      <td>968161857</td>\n",
       "      <td>Bosnia and Herzegovina</td>\n",
       "      <td>Cosmetics</td>\n",
       "      <td>5/29/2016</td>\n",
       "      <td>6/8/2016</td>\n",
       "      <td>9463</td>\n",
       "      <td>437.20</td>\n",
       "      <td>263.33</td>\n",
       "    </tr>\n",
       "    <tr>\n",
       "      <th>9</th>\n",
       "      <td>349185693</td>\n",
       "      <td>Japan</td>\n",
       "      <td>Clothes</td>\n",
       "      <td>3/25/2018</td>\n",
       "      <td>4/8/2018</td>\n",
       "      <td>661</td>\n",
       "      <td>109.28</td>\n",
       "      <td>35.84</td>\n",
       "    </tr>\n",
       "    <tr>\n",
       "      <th>10</th>\n",
       "      <td>682902705</td>\n",
       "      <td>Papua New Guinea</td>\n",
       "      <td>Beverages</td>\n",
       "      <td>8/28/2013</td>\n",
       "      <td>9/18/2013</td>\n",
       "      <td>4941</td>\n",
       "      <td>47.45</td>\n",
       "      <td>31.79</td>\n",
       "    </tr>\n",
       "    <tr>\n",
       "      <th>11</th>\n",
       "      <td>349049222</td>\n",
       "      <td>Madagascar</td>\n",
       "      <td>Fruits</td>\n",
       "      <td>6/17/2014</td>\n",
       "      <td>7/10/2014</td>\n",
       "      <td>276</td>\n",
       "      <td>9.33</td>\n",
       "      <td>6.92</td>\n",
       "    </tr>\n",
       "    <tr>\n",
       "      <th>12</th>\n",
       "      <td>497674071</td>\n",
       "      <td>Saint Kitts and Nevis</td>\n",
       "      <td>Personal Care</td>\n",
       "      <td>11/11/2017</td>\n",
       "      <td>11/16/2017</td>\n",
       "      <td>1672</td>\n",
       "      <td>81.73</td>\n",
       "      <td>56.67</td>\n",
       "    </tr>\n",
       "    <tr>\n",
       "      <th>13</th>\n",
       "      <td>999138581</td>\n",
       "      <td>Slovakia</td>\n",
       "      <td>Meat</td>\n",
       "      <td>11/26/2011</td>\n",
       "      <td>12/10/2011</td>\n",
       "      <td>6164</td>\n",
       "      <td>421.89</td>\n",
       "      <td>364.69</td>\n",
       "    </tr>\n",
       "    <tr>\n",
       "      <th>14</th>\n",
       "      <td>894116580</td>\n",
       "      <td>Eritrea</td>\n",
       "      <td>Meat</td>\n",
       "      <td>11/9/2012</td>\n",
       "      <td>12/13/2012</td>\n",
       "      <td>7820</td>\n",
       "      <td>421.89</td>\n",
       "      <td>364.69</td>\n",
       "    </tr>\n",
       "    <tr>\n",
       "      <th>15</th>\n",
       "      <td>643594396</td>\n",
       "      <td>Botswana</td>\n",
       "      <td>Cereal</td>\n",
       "      <td>2/11/2017</td>\n",
       "      <td>2/24/2017</td>\n",
       "      <td>2739</td>\n",
       "      <td>205.70</td>\n",
       "      <td>117.11</td>\n",
       "    </tr>\n",
       "    <tr>\n",
       "      <th>16</th>\n",
       "      <td>778870856</td>\n",
       "      <td>Micronesia</td>\n",
       "      <td>Household</td>\n",
       "      <td>3/25/2017</td>\n",
       "      <td>5/3/2017</td>\n",
       "      <td>4049</td>\n",
       "      <td>668.27</td>\n",
       "      <td>502.54</td>\n",
       "    </tr>\n",
       "    <tr>\n",
       "      <th>17</th>\n",
       "      <td>551557290</td>\n",
       "      <td>Uzbekistan</td>\n",
       "      <td>Meat</td>\n",
       "      <td>12/11/2017</td>\n",
       "      <td>12/20/2017</td>\n",
       "      <td>6914</td>\n",
       "      <td>421.89</td>\n",
       "      <td>364.69</td>\n",
       "    </tr>\n",
       "    <tr>\n",
       "      <th>18</th>\n",
       "      <td>183577525</td>\n",
       "      <td>Jordan</td>\n",
       "      <td>Beverages</td>\n",
       "      <td>2/29/2020</td>\n",
       "      <td>3/13/2020</td>\n",
       "      <td>3524</td>\n",
       "      <td>47.45</td>\n",
       "      <td>31.79</td>\n",
       "    </tr>\n",
       "    <tr>\n",
       "      <th>19</th>\n",
       "      <td>417167890</td>\n",
       "      <td>Micronesia</td>\n",
       "      <td>Snacks</td>\n",
       "      <td>8/6/2015</td>\n",
       "      <td>8/8/2015</td>\n",
       "      <td>8104</td>\n",
       "      <td>152.58</td>\n",
       "      <td>97.44</td>\n",
       "    </tr>\n",
       "  </tbody>\n",
       "</table>\n",
       "</div>"
      ],
      "text/plain": [
       "     Order ID                 Country      Item Type  Order Date   Ship Date  \\\n",
       "0   451691138               Australia           Meat    4/4/2011   5/23/2011   \n",
       "1   144177377              Tajikistan  Personal Care   7/12/2018    8/1/2018   \n",
       "2   982716166              Mozambique      Cosmetics    7/6/2011   7/17/2011   \n",
       "3   784543836                  Panama  Personal Care    5/1/2011   5/11/2011   \n",
       "4   137209212                  Canada         Fruits  11/15/2013  12/29/2013   \n",
       "5   148573625                   Italy         Fruits   7/16/2016   7/18/2016   \n",
       "6   196810901                 Romania      Beverages  11/15/2012   12/1/2012   \n",
       "7   180407369               Australia      Cosmetics   4/30/2019   5/25/2019   \n",
       "8   968161857  Bosnia and Herzegovina      Cosmetics   5/29/2016    6/8/2016   \n",
       "9   349185693                   Japan        Clothes   3/25/2018    4/8/2018   \n",
       "10  682902705        Papua New Guinea      Beverages   8/28/2013   9/18/2013   \n",
       "11  349049222              Madagascar         Fruits   6/17/2014   7/10/2014   \n",
       "12  497674071  Saint Kitts and Nevis   Personal Care  11/11/2017  11/16/2017   \n",
       "13  999138581                Slovakia           Meat  11/26/2011  12/10/2011   \n",
       "14  894116580                 Eritrea           Meat   11/9/2012  12/13/2012   \n",
       "15  643594396                Botswana         Cereal   2/11/2017   2/24/2017   \n",
       "16  778870856              Micronesia      Household   3/25/2017    5/3/2017   \n",
       "17  551557290              Uzbekistan           Meat  12/11/2017  12/20/2017   \n",
       "18  183577525                  Jordan      Beverages   2/29/2020   3/13/2020   \n",
       "19  417167890              Micronesia         Snacks    8/6/2015    8/8/2015   \n",
       "\n",
       "    Quantity  Sales Price  Unit Cost  \n",
       "0       4300       421.89     364.69  \n",
       "1       4145        81.73      56.67  \n",
       "2       6407       437.20     263.33  \n",
       "3       2810        81.73      56.67  \n",
       "4       2110         9.33       6.92  \n",
       "5       5092         9.33       6.92  \n",
       "6       9574        47.45      31.79  \n",
       "7       5404       437.20     263.33  \n",
       "8       9463       437.20     263.33  \n",
       "9        661       109.28      35.84  \n",
       "10      4941        47.45      31.79  \n",
       "11       276         9.33       6.92  \n",
       "12      1672        81.73      56.67  \n",
       "13      6164       421.89     364.69  \n",
       "14      7820       421.89     364.69  \n",
       "15      2739       205.70     117.11  \n",
       "16      4049       668.27     502.54  \n",
       "17      6914       421.89     364.69  \n",
       "18      3524        47.45      31.79  \n",
       "19      8104       152.58      97.44  "
      ]
     },
     "execution_count": 4,
     "metadata": {},
     "output_type": "execute_result"
    }
   ],
   "source": [
    "df1 "
   ]
  },
  {
   "cell_type": "markdown",
   "id": "980deddc-f7ca-4b54-ac37-4f99f4dbc5cd",
   "metadata": {
    "panel-layout": {
     "height": 50.850006103515625,
     "visible": true,
     "width": 100
    }
   },
   "source": [
    "## Save the first dataframe"
   ]
  },
  {
   "cell_type": "code",
   "execution_count": 5,
   "id": "fcb44944-553c-4a41-b6de-9990b63fa113",
   "metadata": {},
   "outputs": [],
   "source": [
    "df1.to_csv('Sales_Data.csv', index=False)"
   ]
  },
  {
   "cell_type": "markdown",
   "id": "cfc1a2a9-bf24-4111-b129-7c4c49d54c8e",
   "metadata": {},
   "source": [
    "### Checking for Null values in df1"
   ]
  },
  {
   "cell_type": "code",
   "execution_count": 6,
   "id": "40ce3d1c-ac8d-415e-b9d5-6bc53e827d7b",
   "metadata": {
    "panel-layout": {
     "height": 254,
     "visible": true,
     "width": 100
    }
   },
   "outputs": [
    {
     "data": {
      "text/plain": [
       "Order ID       0\n",
       "Country        0\n",
       "Item Type      0\n",
       "Order Date     0\n",
       "Ship Date      0\n",
       "Quantity       0\n",
       "Sales Price    0\n",
       "Unit Cost      0\n",
       "dtype: int64"
      ]
     },
     "execution_count": 6,
     "metadata": {},
     "output_type": "execute_result"
    }
   ],
   "source": [
    "df1.isnull().sum()"
   ]
  },
  {
   "cell_type": "markdown",
   "id": "935cea3f-8b34-40bc-a7d9-f4c23d8ebc69",
   "metadata": {
    "panel-layout": {
     "height": 60.616668701171875,
     "visible": true,
     "width": 100
    }
   },
   "source": [
    "# LOADING SECOND DATAFRAME [Discounts2.CSV]"
   ]
  },
  {
   "cell_type": "code",
   "execution_count": 7,
   "id": "2449fb09-50e1-40a2-a18b-7aa061f42c71",
   "metadata": {},
   "outputs": [],
   "source": [
    "df2 =pd.read_csv(\"C:/Users/user/Desktop/Discounts2.csv\")"
   ]
  },
  {
   "cell_type": "code",
   "execution_count": 8,
   "id": "45ae7bfd-8cc5-4960-bd81-1806f948e15c",
   "metadata": {
    "panel-layout": {
     "height": 524,
     "visible": true,
     "width": 100
    }
   },
   "outputs": [
    {
     "data": {
      "text/html": [
       "<div>\n",
       "<style scoped>\n",
       "    .dataframe tbody tr th:only-of-type {\n",
       "        vertical-align: middle;\n",
       "    }\n",
       "\n",
       "    .dataframe tbody tr th {\n",
       "        vertical-align: top;\n",
       "    }\n",
       "\n",
       "    .dataframe thead th {\n",
       "        text-align: right;\n",
       "    }\n",
       "</style>\n",
       "<table border=\"1\" class=\"dataframe\">\n",
       "  <thead>\n",
       "    <tr style=\"text-align: right;\">\n",
       "      <th></th>\n",
       "      <th>Order ID</th>\n",
       "      <th>Item Type</th>\n",
       "      <th>Discounts</th>\n",
       "    </tr>\n",
       "  </thead>\n",
       "  <tbody>\n",
       "    <tr>\n",
       "      <th>0</th>\n",
       "      <td>451691138</td>\n",
       "      <td>Meat</td>\n",
       "      <td>0.69</td>\n",
       "    </tr>\n",
       "    <tr>\n",
       "      <th>1</th>\n",
       "      <td>144177377</td>\n",
       "      <td>Personal Care</td>\n",
       "      <td>0.67</td>\n",
       "    </tr>\n",
       "    <tr>\n",
       "      <th>2</th>\n",
       "      <td>982716166</td>\n",
       "      <td>Cosmetics</td>\n",
       "      <td>0.33</td>\n",
       "    </tr>\n",
       "    <tr>\n",
       "      <th>3</th>\n",
       "      <td>784543836</td>\n",
       "      <td>Personal Care</td>\n",
       "      <td>0.67</td>\n",
       "    </tr>\n",
       "    <tr>\n",
       "      <th>4</th>\n",
       "      <td>137209212</td>\n",
       "      <td>Fruits</td>\n",
       "      <td>NaN</td>\n",
       "    </tr>\n",
       "    <tr>\n",
       "      <th>5</th>\n",
       "      <td>137209212</td>\n",
       "      <td>Fruits</td>\n",
       "      <td>0.92</td>\n",
       "    </tr>\n",
       "    <tr>\n",
       "      <th>6</th>\n",
       "      <td>196810901</td>\n",
       "      <td>Beverages</td>\n",
       "      <td>0.79</td>\n",
       "    </tr>\n",
       "    <tr>\n",
       "      <th>7</th>\n",
       "      <td>968161857</td>\n",
       "      <td>Cosmetics</td>\n",
       "      <td>0.33</td>\n",
       "    </tr>\n",
       "    <tr>\n",
       "      <th>8</th>\n",
       "      <td>968161857</td>\n",
       "      <td>Cosmetics</td>\n",
       "      <td>0.33</td>\n",
       "    </tr>\n",
       "    <tr>\n",
       "      <th>9</th>\n",
       "      <td>349185693</td>\n",
       "      <td>Clothes</td>\n",
       "      <td>0.84</td>\n",
       "    </tr>\n",
       "    <tr>\n",
       "      <th>10</th>\n",
       "      <td>682902705</td>\n",
       "      <td>Beverages</td>\n",
       "      <td>0.79</td>\n",
       "    </tr>\n",
       "    <tr>\n",
       "      <th>11</th>\n",
       "      <td>349049222</td>\n",
       "      <td>Fruits</td>\n",
       "      <td>0.92</td>\n",
       "    </tr>\n",
       "    <tr>\n",
       "      <th>12</th>\n",
       "      <td>497674071</td>\n",
       "      <td>Personal Care</td>\n",
       "      <td>NaN</td>\n",
       "    </tr>\n",
       "    <tr>\n",
       "      <th>13</th>\n",
       "      <td>999138581</td>\n",
       "      <td>Meat</td>\n",
       "      <td>0.69</td>\n",
       "    </tr>\n",
       "    <tr>\n",
       "      <th>14</th>\n",
       "      <td>894116580</td>\n",
       "      <td>Meat</td>\n",
       "      <td>0.69</td>\n",
       "    </tr>\n",
       "    <tr>\n",
       "      <th>15</th>\n",
       "      <td>643594396</td>\n",
       "      <td>Cereal</td>\n",
       "      <td>0.11</td>\n",
       "    </tr>\n",
       "    <tr>\n",
       "      <th>16</th>\n",
       "      <td>778870856</td>\n",
       "      <td>Household</td>\n",
       "      <td>0.54</td>\n",
       "    </tr>\n",
       "    <tr>\n",
       "      <th>17</th>\n",
       "      <td>551557290</td>\n",
       "      <td>Meat</td>\n",
       "      <td>0.69</td>\n",
       "    </tr>\n",
       "    <tr>\n",
       "      <th>18</th>\n",
       "      <td>183577525</td>\n",
       "      <td>Beverages</td>\n",
       "      <td>0.79</td>\n",
       "    </tr>\n",
       "    <tr>\n",
       "      <th>19</th>\n",
       "      <td>417167890</td>\n",
       "      <td>Snacks</td>\n",
       "      <td>NaN</td>\n",
       "    </tr>\n",
       "  </tbody>\n",
       "</table>\n",
       "</div>"
      ],
      "text/plain": [
       "     Order ID      Item Type  Discounts\n",
       "0   451691138           Meat       0.69\n",
       "1   144177377  Personal Care       0.67\n",
       "2   982716166      Cosmetics       0.33\n",
       "3   784543836  Personal Care       0.67\n",
       "4   137209212         Fruits        NaN\n",
       "5   137209212         Fruits       0.92\n",
       "6   196810901      Beverages       0.79\n",
       "7   968161857      Cosmetics       0.33\n",
       "8   968161857      Cosmetics       0.33\n",
       "9   349185693        Clothes       0.84\n",
       "10  682902705      Beverages       0.79\n",
       "11  349049222         Fruits       0.92\n",
       "12  497674071  Personal Care        NaN\n",
       "13  999138581           Meat       0.69\n",
       "14  894116580           Meat       0.69\n",
       "15  643594396         Cereal       0.11\n",
       "16  778870856      Household       0.54\n",
       "17  551557290           Meat       0.69\n",
       "18  183577525      Beverages       0.79\n",
       "19  417167890         Snacks        NaN"
      ]
     },
     "execution_count": 8,
     "metadata": {},
     "output_type": "execute_result"
    }
   ],
   "source": [
    "df2"
   ]
  },
  {
   "cell_type": "code",
   "execution_count": 9,
   "id": "76918c98-b848-435f-978d-534a051c7ae8",
   "metadata": {
    "panel-layout": {
     "height": 0,
     "visible": true,
     "width": 100
    }
   },
   "outputs": [],
   "source": [
    "df2.to_csv('Discount.csv', index=False) # Saving the second Dataframe [Discount]"
   ]
  },
  {
   "cell_type": "code",
   "execution_count": 10,
   "id": "63e73de3-f2a6-409d-b60d-b461edacda4b",
   "metadata": {
    "panel-layout": {
     "height": 0,
     "visible": true,
     "width": 100
    }
   },
   "outputs": [
    {
     "name": "stdout",
     "output_type": "stream",
     "text": [
      "(20, 3)\n",
      "<class 'pandas.core.frame.DataFrame'>\n",
      "RangeIndex: 20 entries, 0 to 19\n",
      "Data columns (total 3 columns):\n",
      " #   Column     Non-Null Count  Dtype  \n",
      "---  ------     --------------  -----  \n",
      " 0   Order ID   20 non-null     int64  \n",
      " 1   Item Type  20 non-null     object \n",
      " 2   Discounts  17 non-null     float64\n",
      "dtypes: float64(1), int64(1), object(1)\n",
      "memory usage: 612.0+ bytes\n",
      "None\n"
     ]
    }
   ],
   "source": [
    "print(df2.shape)\n",
    "print(df2.info())"
   ]
  },
  {
   "cell_type": "markdown",
   "id": "b940c30b-9a8a-48c7-a315-dcf474deda4e",
   "metadata": {
    "panel-layout": {
     "height": 60.616668701171875,
     "visible": true,
     "width": 100
    }
   },
   "source": [
    "# CREATING A DATAFRAME WITH TWO COLUMNS [10 x 2 Dimension]"
   ]
  },
  {
   "cell_type": "code",
   "execution_count": 11,
   "id": "81014142-ae8a-4997-b932-420300f458d1",
   "metadata": {},
   "outputs": [],
   "source": [
    "df3 = pd.DataFrame({\n",
    "    'Country': ['Nigeria', 'Niger Republic', 'Togo', 'Senegal', 'Ghana','Benin Republic','Zambia','Egypt','South Africa','Angola'],\n",
    "    'Product' : ['Crude Oil','Iron Ore','Fish Products','Leather Works','Coal','Fish Products','Lithium','Cratf work','Gold','Diamond']\n",
    "   })\n",
    "\n"
   ]
  },
  {
   "cell_type": "code",
   "execution_count": 12,
   "id": "338c2372-8724-4f2e-8888-c55b76f2100b",
   "metadata": {
    "panel-layout": {
     "height": 0,
     "visible": true,
     "width": 100
    }
   },
   "outputs": [
    {
     "name": "stdout",
     "output_type": "stream",
     "text": [
      "(10, 2)\n"
     ]
    }
   ],
   "source": [
    "print(df3.shape)  "
   ]
  },
  {
   "cell_type": "code",
   "execution_count": 13,
   "id": "42ac826a-6484-4e2e-86ab-1fd0a221a0b9",
   "metadata": {
    "panel-layout": {
     "height": 308,
     "visible": true,
     "width": 100
    }
   },
   "outputs": [
    {
     "data": {
      "text/html": [
       "<div>\n",
       "<style scoped>\n",
       "    .dataframe tbody tr th:only-of-type {\n",
       "        vertical-align: middle;\n",
       "    }\n",
       "\n",
       "    .dataframe tbody tr th {\n",
       "        vertical-align: top;\n",
       "    }\n",
       "\n",
       "    .dataframe thead th {\n",
       "        text-align: right;\n",
       "    }\n",
       "</style>\n",
       "<table border=\"1\" class=\"dataframe\">\n",
       "  <thead>\n",
       "    <tr style=\"text-align: right;\">\n",
       "      <th></th>\n",
       "      <th>Country</th>\n",
       "      <th>Product</th>\n",
       "    </tr>\n",
       "  </thead>\n",
       "  <tbody>\n",
       "    <tr>\n",
       "      <th>0</th>\n",
       "      <td>Nigeria</td>\n",
       "      <td>Crude Oil</td>\n",
       "    </tr>\n",
       "    <tr>\n",
       "      <th>1</th>\n",
       "      <td>Niger Republic</td>\n",
       "      <td>Iron Ore</td>\n",
       "    </tr>\n",
       "    <tr>\n",
       "      <th>2</th>\n",
       "      <td>Togo</td>\n",
       "      <td>Fish Products</td>\n",
       "    </tr>\n",
       "    <tr>\n",
       "      <th>3</th>\n",
       "      <td>Senegal</td>\n",
       "      <td>Leather Works</td>\n",
       "    </tr>\n",
       "    <tr>\n",
       "      <th>4</th>\n",
       "      <td>Ghana</td>\n",
       "      <td>Coal</td>\n",
       "    </tr>\n",
       "    <tr>\n",
       "      <th>5</th>\n",
       "      <td>Benin Republic</td>\n",
       "      <td>Fish Products</td>\n",
       "    </tr>\n",
       "    <tr>\n",
       "      <th>6</th>\n",
       "      <td>Zambia</td>\n",
       "      <td>Lithium</td>\n",
       "    </tr>\n",
       "    <tr>\n",
       "      <th>7</th>\n",
       "      <td>Egypt</td>\n",
       "      <td>Cratf work</td>\n",
       "    </tr>\n",
       "    <tr>\n",
       "      <th>8</th>\n",
       "      <td>South Africa</td>\n",
       "      <td>Gold</td>\n",
       "    </tr>\n",
       "    <tr>\n",
       "      <th>9</th>\n",
       "      <td>Angola</td>\n",
       "      <td>Diamond</td>\n",
       "    </tr>\n",
       "  </tbody>\n",
       "</table>\n",
       "</div>"
      ],
      "text/plain": [
       "          Country        Product\n",
       "0         Nigeria      Crude Oil\n",
       "1  Niger Republic       Iron Ore\n",
       "2            Togo  Fish Products\n",
       "3         Senegal  Leather Works\n",
       "4           Ghana           Coal\n",
       "5  Benin Republic  Fish Products\n",
       "6          Zambia        Lithium\n",
       "7           Egypt     Cratf work\n",
       "8    South Africa           Gold\n",
       "9          Angola        Diamond"
      ]
     },
     "execution_count": 13,
     "metadata": {},
     "output_type": "execute_result"
    }
   ],
   "source": [
    "df3"
   ]
  },
  {
   "cell_type": "code",
   "execution_count": 14,
   "id": "f0994cea-38a5-4407-88ae-d70d633c5c1c",
   "metadata": {
    "panel-layout": {
     "height": 0,
     "visible": true,
     "width": 100
    }
   },
   "outputs": [
    {
     "name": "stdout",
     "output_type": "stream",
     "text": [
      "(10, 2)\n"
     ]
    }
   ],
   "source": [
    "print(df3.shape) # Check the Dimension of the DataFrame"
   ]
  },
  {
   "cell_type": "markdown",
   "id": "f914afee-505e-403f-9972-152ff0af5c0e",
   "metadata": {
    "panel-layout": {
     "height": 60.616668701171875,
     "visible": true,
     "width": 100
    }
   },
   "source": [
    "# COLUMNS AND ROW SELECTION "
   ]
  },
  {
   "cell_type": "code",
   "execution_count": 15,
   "id": "1f76faba-2460-4ee7-b84a-f3b96be831dd",
   "metadata": {
    "panel-layout": {
     "height": 578,
     "visible": true,
     "width": 100
    }
   },
   "outputs": [
    {
     "data": {
      "text/html": [
       "<div>\n",
       "<style scoped>\n",
       "    .dataframe tbody tr th:only-of-type {\n",
       "        vertical-align: middle;\n",
       "    }\n",
       "\n",
       "    .dataframe tbody tr th {\n",
       "        vertical-align: top;\n",
       "    }\n",
       "\n",
       "    .dataframe thead th {\n",
       "        text-align: right;\n",
       "    }\n",
       "</style>\n",
       "<table border=\"1\" class=\"dataframe\">\n",
       "  <thead>\n",
       "    <tr style=\"text-align: right;\">\n",
       "      <th></th>\n",
       "      <th>Order ID</th>\n",
       "      <th>Country</th>\n",
       "      <th>Item Type</th>\n",
       "      <th>Order Date</th>\n",
       "      <th>Ship Date</th>\n",
       "      <th>Quantity</th>\n",
       "      <th>Sales Price</th>\n",
       "      <th>Unit Cost</th>\n",
       "    </tr>\n",
       "  </thead>\n",
       "  <tbody>\n",
       "    <tr>\n",
       "      <th>0</th>\n",
       "      <td>451691138</td>\n",
       "      <td>Australia</td>\n",
       "      <td>Meat</td>\n",
       "      <td>4/4/2011</td>\n",
       "      <td>5/23/2011</td>\n",
       "      <td>4300</td>\n",
       "      <td>421.89</td>\n",
       "      <td>364.69</td>\n",
       "    </tr>\n",
       "    <tr>\n",
       "      <th>1</th>\n",
       "      <td>144177377</td>\n",
       "      <td>Tajikistan</td>\n",
       "      <td>Personal Care</td>\n",
       "      <td>7/12/2018</td>\n",
       "      <td>8/1/2018</td>\n",
       "      <td>4145</td>\n",
       "      <td>81.73</td>\n",
       "      <td>56.67</td>\n",
       "    </tr>\n",
       "    <tr>\n",
       "      <th>2</th>\n",
       "      <td>982716166</td>\n",
       "      <td>Mozambique</td>\n",
       "      <td>Cosmetics</td>\n",
       "      <td>7/6/2011</td>\n",
       "      <td>7/17/2011</td>\n",
       "      <td>6407</td>\n",
       "      <td>437.20</td>\n",
       "      <td>263.33</td>\n",
       "    </tr>\n",
       "    <tr>\n",
       "      <th>3</th>\n",
       "      <td>784543836</td>\n",
       "      <td>Panama</td>\n",
       "      <td>Personal Care</td>\n",
       "      <td>5/1/2011</td>\n",
       "      <td>5/11/2011</td>\n",
       "      <td>2810</td>\n",
       "      <td>81.73</td>\n",
       "      <td>56.67</td>\n",
       "    </tr>\n",
       "    <tr>\n",
       "      <th>4</th>\n",
       "      <td>137209212</td>\n",
       "      <td>Canada</td>\n",
       "      <td>Fruits</td>\n",
       "      <td>11/15/2013</td>\n",
       "      <td>12/29/2013</td>\n",
       "      <td>2110</td>\n",
       "      <td>9.33</td>\n",
       "      <td>6.92</td>\n",
       "    </tr>\n",
       "    <tr>\n",
       "      <th>5</th>\n",
       "      <td>148573625</td>\n",
       "      <td>Italy</td>\n",
       "      <td>Fruits</td>\n",
       "      <td>7/16/2016</td>\n",
       "      <td>7/18/2016</td>\n",
       "      <td>5092</td>\n",
       "      <td>9.33</td>\n",
       "      <td>6.92</td>\n",
       "    </tr>\n",
       "    <tr>\n",
       "      <th>6</th>\n",
       "      <td>196810901</td>\n",
       "      <td>Romania</td>\n",
       "      <td>Beverages</td>\n",
       "      <td>11/15/2012</td>\n",
       "      <td>12/1/2012</td>\n",
       "      <td>9574</td>\n",
       "      <td>47.45</td>\n",
       "      <td>31.79</td>\n",
       "    </tr>\n",
       "    <tr>\n",
       "      <th>7</th>\n",
       "      <td>180407369</td>\n",
       "      <td>Australia</td>\n",
       "      <td>Cosmetics</td>\n",
       "      <td>4/30/2019</td>\n",
       "      <td>5/25/2019</td>\n",
       "      <td>5404</td>\n",
       "      <td>437.20</td>\n",
       "      <td>263.33</td>\n",
       "    </tr>\n",
       "    <tr>\n",
       "      <th>8</th>\n",
       "      <td>968161857</td>\n",
       "      <td>Bosnia and Herzegovina</td>\n",
       "      <td>Cosmetics</td>\n",
       "      <td>5/29/2016</td>\n",
       "      <td>6/8/2016</td>\n",
       "      <td>9463</td>\n",
       "      <td>437.20</td>\n",
       "      <td>263.33</td>\n",
       "    </tr>\n",
       "    <tr>\n",
       "      <th>9</th>\n",
       "      <td>349185693</td>\n",
       "      <td>Japan</td>\n",
       "      <td>Clothes</td>\n",
       "      <td>3/25/2018</td>\n",
       "      <td>4/8/2018</td>\n",
       "      <td>661</td>\n",
       "      <td>109.28</td>\n",
       "      <td>35.84</td>\n",
       "    </tr>\n",
       "    <tr>\n",
       "      <th>10</th>\n",
       "      <td>682902705</td>\n",
       "      <td>Papua New Guinea</td>\n",
       "      <td>Beverages</td>\n",
       "      <td>8/28/2013</td>\n",
       "      <td>9/18/2013</td>\n",
       "      <td>4941</td>\n",
       "      <td>47.45</td>\n",
       "      <td>31.79</td>\n",
       "    </tr>\n",
       "    <tr>\n",
       "      <th>11</th>\n",
       "      <td>349049222</td>\n",
       "      <td>Madagascar</td>\n",
       "      <td>Fruits</td>\n",
       "      <td>6/17/2014</td>\n",
       "      <td>7/10/2014</td>\n",
       "      <td>276</td>\n",
       "      <td>9.33</td>\n",
       "      <td>6.92</td>\n",
       "    </tr>\n",
       "    <tr>\n",
       "      <th>12</th>\n",
       "      <td>497674071</td>\n",
       "      <td>Saint Kitts and Nevis</td>\n",
       "      <td>Personal Care</td>\n",
       "      <td>11/11/2017</td>\n",
       "      <td>11/16/2017</td>\n",
       "      <td>1672</td>\n",
       "      <td>81.73</td>\n",
       "      <td>56.67</td>\n",
       "    </tr>\n",
       "    <tr>\n",
       "      <th>13</th>\n",
       "      <td>999138581</td>\n",
       "      <td>Slovakia</td>\n",
       "      <td>Meat</td>\n",
       "      <td>11/26/2011</td>\n",
       "      <td>12/10/2011</td>\n",
       "      <td>6164</td>\n",
       "      <td>421.89</td>\n",
       "      <td>364.69</td>\n",
       "    </tr>\n",
       "    <tr>\n",
       "      <th>14</th>\n",
       "      <td>894116580</td>\n",
       "      <td>Eritrea</td>\n",
       "      <td>Meat</td>\n",
       "      <td>11/9/2012</td>\n",
       "      <td>12/13/2012</td>\n",
       "      <td>7820</td>\n",
       "      <td>421.89</td>\n",
       "      <td>364.69</td>\n",
       "    </tr>\n",
       "    <tr>\n",
       "      <th>15</th>\n",
       "      <td>643594396</td>\n",
       "      <td>Botswana</td>\n",
       "      <td>Cereal</td>\n",
       "      <td>2/11/2017</td>\n",
       "      <td>2/24/2017</td>\n",
       "      <td>2739</td>\n",
       "      <td>205.70</td>\n",
       "      <td>117.11</td>\n",
       "    </tr>\n",
       "    <tr>\n",
       "      <th>16</th>\n",
       "      <td>778870856</td>\n",
       "      <td>Micronesia</td>\n",
       "      <td>Household</td>\n",
       "      <td>3/25/2017</td>\n",
       "      <td>5/3/2017</td>\n",
       "      <td>4049</td>\n",
       "      <td>668.27</td>\n",
       "      <td>502.54</td>\n",
       "    </tr>\n",
       "    <tr>\n",
       "      <th>17</th>\n",
       "      <td>551557290</td>\n",
       "      <td>Uzbekistan</td>\n",
       "      <td>Meat</td>\n",
       "      <td>12/11/2017</td>\n",
       "      <td>12/20/2017</td>\n",
       "      <td>6914</td>\n",
       "      <td>421.89</td>\n",
       "      <td>364.69</td>\n",
       "    </tr>\n",
       "    <tr>\n",
       "      <th>18</th>\n",
       "      <td>183577525</td>\n",
       "      <td>Jordan</td>\n",
       "      <td>Beverages</td>\n",
       "      <td>2/29/2020</td>\n",
       "      <td>3/13/2020</td>\n",
       "      <td>3524</td>\n",
       "      <td>47.45</td>\n",
       "      <td>31.79</td>\n",
       "    </tr>\n",
       "    <tr>\n",
       "      <th>19</th>\n",
       "      <td>417167890</td>\n",
       "      <td>Micronesia</td>\n",
       "      <td>Snacks</td>\n",
       "      <td>8/6/2015</td>\n",
       "      <td>8/8/2015</td>\n",
       "      <td>8104</td>\n",
       "      <td>152.58</td>\n",
       "      <td>97.44</td>\n",
       "    </tr>\n",
       "  </tbody>\n",
       "</table>\n",
       "</div>"
      ],
      "text/plain": [
       "     Order ID                 Country      Item Type  Order Date   Ship Date  \\\n",
       "0   451691138               Australia           Meat    4/4/2011   5/23/2011   \n",
       "1   144177377              Tajikistan  Personal Care   7/12/2018    8/1/2018   \n",
       "2   982716166              Mozambique      Cosmetics    7/6/2011   7/17/2011   \n",
       "3   784543836                  Panama  Personal Care    5/1/2011   5/11/2011   \n",
       "4   137209212                  Canada         Fruits  11/15/2013  12/29/2013   \n",
       "5   148573625                   Italy         Fruits   7/16/2016   7/18/2016   \n",
       "6   196810901                 Romania      Beverages  11/15/2012   12/1/2012   \n",
       "7   180407369               Australia      Cosmetics   4/30/2019   5/25/2019   \n",
       "8   968161857  Bosnia and Herzegovina      Cosmetics   5/29/2016    6/8/2016   \n",
       "9   349185693                   Japan        Clothes   3/25/2018    4/8/2018   \n",
       "10  682902705        Papua New Guinea      Beverages   8/28/2013   9/18/2013   \n",
       "11  349049222              Madagascar         Fruits   6/17/2014   7/10/2014   \n",
       "12  497674071  Saint Kitts and Nevis   Personal Care  11/11/2017  11/16/2017   \n",
       "13  999138581                Slovakia           Meat  11/26/2011  12/10/2011   \n",
       "14  894116580                 Eritrea           Meat   11/9/2012  12/13/2012   \n",
       "15  643594396                Botswana         Cereal   2/11/2017   2/24/2017   \n",
       "16  778870856              Micronesia      Household   3/25/2017    5/3/2017   \n",
       "17  551557290              Uzbekistan           Meat  12/11/2017  12/20/2017   \n",
       "18  183577525                  Jordan      Beverages   2/29/2020   3/13/2020   \n",
       "19  417167890              Micronesia         Snacks    8/6/2015    8/8/2015   \n",
       "\n",
       "    Quantity  Sales Price  Unit Cost  \n",
       "0       4300       421.89     364.69  \n",
       "1       4145        81.73      56.67  \n",
       "2       6407       437.20     263.33  \n",
       "3       2810        81.73      56.67  \n",
       "4       2110         9.33       6.92  \n",
       "5       5092         9.33       6.92  \n",
       "6       9574        47.45      31.79  \n",
       "7       5404       437.20     263.33  \n",
       "8       9463       437.20     263.33  \n",
       "9        661       109.28      35.84  \n",
       "10      4941        47.45      31.79  \n",
       "11       276         9.33       6.92  \n",
       "12      1672        81.73      56.67  \n",
       "13      6164       421.89     364.69  \n",
       "14      7820       421.89     364.69  \n",
       "15      2739       205.70     117.11  \n",
       "16      4049       668.27     502.54  \n",
       "17      6914       421.89     364.69  \n",
       "18      3524        47.45      31.79  \n",
       "19      8104       152.58      97.44  "
      ]
     },
     "execution_count": 15,
     "metadata": {},
     "output_type": "execute_result"
    }
   ],
   "source": [
    "df1"
   ]
  },
  {
   "cell_type": "markdown",
   "id": "55ce5b6b-09ce-4947-b6b8-6a26b4822ac9",
   "metadata": {
    "panel-layout": {
     "height": 50.850006103515625,
     "visible": true,
     "width": 100
    }
   },
   "source": [
    "## Selecting Single Column: 'country '"
   ]
  },
  {
   "cell_type": "code",
   "execution_count": 16,
   "id": "a16f38fc-84a4-4a7d-8cc3-0f584c6be0c6",
   "metadata": {
    "panel-layout": {
     "height": 0,
     "visible": true,
     "width": 100
    }
   },
   "outputs": [
    {
     "name": "stdout",
     "output_type": "stream",
     "text": [
      "\n",
      "Selected Single Column (Country):\n",
      "0     Australia\n",
      "1    Tajikistan\n",
      "2    Mozambique\n",
      "3        Panama\n",
      "4        Canada\n",
      "Name: Country, dtype: object\n"
     ]
    }
   ],
   "source": [
    "country_column = df1['Country']\n",
    "print(\"\\nSelected Single Column (Country):\")\n",
    "print(country_column.head())"
   ]
  },
  {
   "cell_type": "code",
   "execution_count": 17,
   "id": "5a160f8d-e46a-429b-879f-4ffe38179948",
   "metadata": {
    "panel-layout": {
     "height": 578,
     "visible": true,
     "width": 100
    }
   },
   "outputs": [
    {
     "data": {
      "text/plain": [
       "0                  Australia\n",
       "1                 Tajikistan\n",
       "2                 Mozambique\n",
       "3                     Panama\n",
       "4                     Canada\n",
       "5                      Italy\n",
       "6                    Romania\n",
       "7                  Australia\n",
       "8     Bosnia and Herzegovina\n",
       "9                      Japan\n",
       "10          Papua New Guinea\n",
       "11                Madagascar\n",
       "12    Saint Kitts and Nevis \n",
       "13                  Slovakia\n",
       "14                   Eritrea\n",
       "15                  Botswana\n",
       "16                Micronesia\n",
       "17                Uzbekistan\n",
       "18                    Jordan\n",
       "19                Micronesia\n",
       "Name: Country, dtype: object"
      ]
     },
     "execution_count": 17,
     "metadata": {},
     "output_type": "execute_result"
    }
   ],
   "source": [
    "country_column"
   ]
  },
  {
   "cell_type": "markdown",
   "id": "a7d43c90-8a53-43a5-852e-8cceed2a833a",
   "metadata": {
    "panel-layout": {
     "height": 50.850006103515625,
     "visible": true,
     "width": 100
    }
   },
   "source": [
    "## Selecting Many Columns : Order ID, Country , Item Type , Quantity"
   ]
  },
  {
   "cell_type": "code",
   "execution_count": 18,
   "id": "6a5beee7-bd07-489f-8611-7be1855abe3c",
   "metadata": {
    "panel-layout": {
     "height": 0,
     "visible": true,
     "width": 100
    }
   },
   "outputs": [
    {
     "name": "stdout",
     "output_type": "stream",
     "text": [
      "\n",
      "Selected Multiple Columns:\n",
      "    Order ID     Country      Item Type  Quantity\n",
      "0  451691138   Australia           Meat      4300\n",
      "1  144177377  Tajikistan  Personal Care      4145\n",
      "2  982716166  Mozambique      Cosmetics      6407\n",
      "3  784543836      Panama  Personal Care      2810\n",
      "4  137209212      Canada         Fruits      2110\n"
     ]
    }
   ],
   "source": [
    "selected_columns = df1[['Order ID','Country', 'Item Type','Quantity']]\n",
    "print(\"\\nSelected Multiple Columns:\")\n",
    "print(selected_columns.head())"
   ]
  },
  {
   "cell_type": "code",
   "execution_count": 19,
   "id": "6daa7750-786d-4c7f-af9f-290f353a73c3",
   "metadata": {
    "panel-layout": {
     "height": 578,
     "visible": true,
     "width": 100
    }
   },
   "outputs": [
    {
     "data": {
      "text/html": [
       "<div>\n",
       "<style scoped>\n",
       "    .dataframe tbody tr th:only-of-type {\n",
       "        vertical-align: middle;\n",
       "    }\n",
       "\n",
       "    .dataframe tbody tr th {\n",
       "        vertical-align: top;\n",
       "    }\n",
       "\n",
       "    .dataframe thead th {\n",
       "        text-align: right;\n",
       "    }\n",
       "</style>\n",
       "<table border=\"1\" class=\"dataframe\">\n",
       "  <thead>\n",
       "    <tr style=\"text-align: right;\">\n",
       "      <th></th>\n",
       "      <th>Order ID</th>\n",
       "      <th>Country</th>\n",
       "      <th>Item Type</th>\n",
       "      <th>Quantity</th>\n",
       "    </tr>\n",
       "  </thead>\n",
       "  <tbody>\n",
       "    <tr>\n",
       "      <th>0</th>\n",
       "      <td>451691138</td>\n",
       "      <td>Australia</td>\n",
       "      <td>Meat</td>\n",
       "      <td>4300</td>\n",
       "    </tr>\n",
       "    <tr>\n",
       "      <th>1</th>\n",
       "      <td>144177377</td>\n",
       "      <td>Tajikistan</td>\n",
       "      <td>Personal Care</td>\n",
       "      <td>4145</td>\n",
       "    </tr>\n",
       "    <tr>\n",
       "      <th>2</th>\n",
       "      <td>982716166</td>\n",
       "      <td>Mozambique</td>\n",
       "      <td>Cosmetics</td>\n",
       "      <td>6407</td>\n",
       "    </tr>\n",
       "    <tr>\n",
       "      <th>3</th>\n",
       "      <td>784543836</td>\n",
       "      <td>Panama</td>\n",
       "      <td>Personal Care</td>\n",
       "      <td>2810</td>\n",
       "    </tr>\n",
       "    <tr>\n",
       "      <th>4</th>\n",
       "      <td>137209212</td>\n",
       "      <td>Canada</td>\n",
       "      <td>Fruits</td>\n",
       "      <td>2110</td>\n",
       "    </tr>\n",
       "    <tr>\n",
       "      <th>5</th>\n",
       "      <td>148573625</td>\n",
       "      <td>Italy</td>\n",
       "      <td>Fruits</td>\n",
       "      <td>5092</td>\n",
       "    </tr>\n",
       "    <tr>\n",
       "      <th>6</th>\n",
       "      <td>196810901</td>\n",
       "      <td>Romania</td>\n",
       "      <td>Beverages</td>\n",
       "      <td>9574</td>\n",
       "    </tr>\n",
       "    <tr>\n",
       "      <th>7</th>\n",
       "      <td>180407369</td>\n",
       "      <td>Australia</td>\n",
       "      <td>Cosmetics</td>\n",
       "      <td>5404</td>\n",
       "    </tr>\n",
       "    <tr>\n",
       "      <th>8</th>\n",
       "      <td>968161857</td>\n",
       "      <td>Bosnia and Herzegovina</td>\n",
       "      <td>Cosmetics</td>\n",
       "      <td>9463</td>\n",
       "    </tr>\n",
       "    <tr>\n",
       "      <th>9</th>\n",
       "      <td>349185693</td>\n",
       "      <td>Japan</td>\n",
       "      <td>Clothes</td>\n",
       "      <td>661</td>\n",
       "    </tr>\n",
       "    <tr>\n",
       "      <th>10</th>\n",
       "      <td>682902705</td>\n",
       "      <td>Papua New Guinea</td>\n",
       "      <td>Beverages</td>\n",
       "      <td>4941</td>\n",
       "    </tr>\n",
       "    <tr>\n",
       "      <th>11</th>\n",
       "      <td>349049222</td>\n",
       "      <td>Madagascar</td>\n",
       "      <td>Fruits</td>\n",
       "      <td>276</td>\n",
       "    </tr>\n",
       "    <tr>\n",
       "      <th>12</th>\n",
       "      <td>497674071</td>\n",
       "      <td>Saint Kitts and Nevis</td>\n",
       "      <td>Personal Care</td>\n",
       "      <td>1672</td>\n",
       "    </tr>\n",
       "    <tr>\n",
       "      <th>13</th>\n",
       "      <td>999138581</td>\n",
       "      <td>Slovakia</td>\n",
       "      <td>Meat</td>\n",
       "      <td>6164</td>\n",
       "    </tr>\n",
       "    <tr>\n",
       "      <th>14</th>\n",
       "      <td>894116580</td>\n",
       "      <td>Eritrea</td>\n",
       "      <td>Meat</td>\n",
       "      <td>7820</td>\n",
       "    </tr>\n",
       "    <tr>\n",
       "      <th>15</th>\n",
       "      <td>643594396</td>\n",
       "      <td>Botswana</td>\n",
       "      <td>Cereal</td>\n",
       "      <td>2739</td>\n",
       "    </tr>\n",
       "    <tr>\n",
       "      <th>16</th>\n",
       "      <td>778870856</td>\n",
       "      <td>Micronesia</td>\n",
       "      <td>Household</td>\n",
       "      <td>4049</td>\n",
       "    </tr>\n",
       "    <tr>\n",
       "      <th>17</th>\n",
       "      <td>551557290</td>\n",
       "      <td>Uzbekistan</td>\n",
       "      <td>Meat</td>\n",
       "      <td>6914</td>\n",
       "    </tr>\n",
       "    <tr>\n",
       "      <th>18</th>\n",
       "      <td>183577525</td>\n",
       "      <td>Jordan</td>\n",
       "      <td>Beverages</td>\n",
       "      <td>3524</td>\n",
       "    </tr>\n",
       "    <tr>\n",
       "      <th>19</th>\n",
       "      <td>417167890</td>\n",
       "      <td>Micronesia</td>\n",
       "      <td>Snacks</td>\n",
       "      <td>8104</td>\n",
       "    </tr>\n",
       "  </tbody>\n",
       "</table>\n",
       "</div>"
      ],
      "text/plain": [
       "     Order ID                 Country      Item Type  Quantity\n",
       "0   451691138               Australia           Meat      4300\n",
       "1   144177377              Tajikistan  Personal Care      4145\n",
       "2   982716166              Mozambique      Cosmetics      6407\n",
       "3   784543836                  Panama  Personal Care      2810\n",
       "4   137209212                  Canada         Fruits      2110\n",
       "5   148573625                   Italy         Fruits      5092\n",
       "6   196810901                 Romania      Beverages      9574\n",
       "7   180407369               Australia      Cosmetics      5404\n",
       "8   968161857  Bosnia and Herzegovina      Cosmetics      9463\n",
       "9   349185693                   Japan        Clothes       661\n",
       "10  682902705        Papua New Guinea      Beverages      4941\n",
       "11  349049222              Madagascar         Fruits       276\n",
       "12  497674071  Saint Kitts and Nevis   Personal Care      1672\n",
       "13  999138581                Slovakia           Meat      6164\n",
       "14  894116580                 Eritrea           Meat      7820\n",
       "15  643594396                Botswana         Cereal      2739\n",
       "16  778870856              Micronesia      Household      4049\n",
       "17  551557290              Uzbekistan           Meat      6914\n",
       "18  183577525                  Jordan      Beverages      3524\n",
       "19  417167890              Micronesia         Snacks      8104"
      ]
     },
     "execution_count": 19,
     "metadata": {},
     "output_type": "execute_result"
    }
   ],
   "source": [
    "selected_columns"
   ]
  },
  {
   "cell_type": "markdown",
   "id": "418f3a16-f566-4e86-8ada-fb353a954677",
   "metadata": {
    "panel-layout": {
     "height": 50.850006103515625,
     "visible": true,
     "width": 100
    }
   },
   "source": [
    "## Selecting the 4th row (index 3)"
   ]
  },
  {
   "cell_type": "code",
   "execution_count": 20,
   "id": "c7df3d45-5598-4405-b80a-40e82562bbee",
   "metadata": {
    "panel-layout": {
     "height": 254,
     "visible": true,
     "width": 100
    }
   },
   "outputs": [
    {
     "name": "stdout",
     "output_type": "stream",
     "text": [
      "\n",
      "Selected Single Row (4th Row):\n"
     ]
    },
    {
     "data": {
      "text/plain": [
       "Order ID       148573625\n",
       "Country            Italy\n",
       "Item Type         Fruits\n",
       "Order Date     7/16/2016\n",
       "Ship Date      7/18/2016\n",
       "Quantity            5092\n",
       "Sales Price         9.33\n",
       "Unit Cost           6.92\n",
       "Name: 5, dtype: object"
      ]
     },
     "execution_count": 20,
     "metadata": {},
     "output_type": "execute_result"
    }
   ],
   "source": [
    "single_row = df1.iloc[5]\n",
    "print(\"\\nSelected Single Row (4th Row):\")\n",
    "single_row\n"
   ]
  },
  {
   "cell_type": "markdown",
   "id": "9d8e6978-4779-4975-a540-50f5e699efe2",
   "metadata": {
    "panel-layout": {
     "height": 50.850006103515625,
     "visible": true,
     "width": 100
    }
   },
   "source": [
    "## Selecting the first and Sixth columns by index"
   ]
  },
  {
   "cell_type": "code",
   "execution_count": 21,
   "id": "ac2b46f1-bade-4338-b3e2-602c9144897a",
   "metadata": {
    "panel-layout": {
     "height": 92,
     "visible": true,
     "width": 100
    }
   },
   "outputs": [
    {
     "name": "stdout",
     "output_type": "stream",
     "text": [
      "\n",
      "Selected rows by Index (1st and 6th):\n"
     ]
    },
    {
     "data": {
      "text/html": [
       "<div>\n",
       "<style scoped>\n",
       "    .dataframe tbody tr th:only-of-type {\n",
       "        vertical-align: middle;\n",
       "    }\n",
       "\n",
       "    .dataframe tbody tr th {\n",
       "        vertical-align: top;\n",
       "    }\n",
       "\n",
       "    .dataframe thead th {\n",
       "        text-align: right;\n",
       "    }\n",
       "</style>\n",
       "<table border=\"1\" class=\"dataframe\">\n",
       "  <thead>\n",
       "    <tr style=\"text-align: right;\">\n",
       "      <th></th>\n",
       "      <th>Order ID</th>\n",
       "      <th>Country</th>\n",
       "      <th>Item Type</th>\n",
       "      <th>Order Date</th>\n",
       "      <th>Ship Date</th>\n",
       "      <th>Quantity</th>\n",
       "      <th>Sales Price</th>\n",
       "      <th>Unit Cost</th>\n",
       "    </tr>\n",
       "  </thead>\n",
       "  <tbody>\n",
       "    <tr>\n",
       "      <th>0</th>\n",
       "      <td>451691138</td>\n",
       "      <td>Australia</td>\n",
       "      <td>Meat</td>\n",
       "      <td>4/4/2011</td>\n",
       "      <td>5/23/2011</td>\n",
       "      <td>4300</td>\n",
       "      <td>421.89</td>\n",
       "      <td>364.69</td>\n",
       "    </tr>\n",
       "    <tr>\n",
       "      <th>5</th>\n",
       "      <td>148573625</td>\n",
       "      <td>Italy</td>\n",
       "      <td>Fruits</td>\n",
       "      <td>7/16/2016</td>\n",
       "      <td>7/18/2016</td>\n",
       "      <td>5092</td>\n",
       "      <td>9.33</td>\n",
       "      <td>6.92</td>\n",
       "    </tr>\n",
       "  </tbody>\n",
       "</table>\n",
       "</div>"
      ],
      "text/plain": [
       "    Order ID    Country Item Type Order Date  Ship Date  Quantity  \\\n",
       "0  451691138  Australia      Meat   4/4/2011  5/23/2011      4300   \n",
       "5  148573625      Italy    Fruits  7/16/2016  7/18/2016      5092   \n",
       "\n",
       "   Sales Price  Unit Cost  \n",
       "0       421.89     364.69  \n",
       "5         9.33       6.92  "
      ]
     },
     "execution_count": 21,
     "metadata": {},
     "output_type": "execute_result"
    }
   ],
   "source": [
    "columns_by_index = df1.loc[[0, 5]]\n",
    "print(\"\\nSelected rows by Index (1st and 6th):\")\n",
    "columns_by_index"
   ]
  },
  {
   "cell_type": "markdown",
   "id": "2d064375-1c52-4e21-93a0-2b3b5669befc",
   "metadata": {
    "panel-layout": {
     "height": 50.850006103515625,
     "visible": true,
     "width": 100
    }
   },
   "source": [
    "## Selecting rows 3 to 7 by index"
   ]
  },
  {
   "cell_type": "code",
   "execution_count": 22,
   "id": "959b7b05-9d0e-4cba-976a-8e5972bd87c7",
   "metadata": {
    "panel-layout": {
     "height": 146,
     "visible": true,
     "width": 100
    }
   },
   "outputs": [
    {
     "data": {
      "text/html": [
       "<div>\n",
       "<style scoped>\n",
       "    .dataframe tbody tr th:only-of-type {\n",
       "        vertical-align: middle;\n",
       "    }\n",
       "\n",
       "    .dataframe tbody tr th {\n",
       "        vertical-align: top;\n",
       "    }\n",
       "\n",
       "    .dataframe thead th {\n",
       "        text-align: right;\n",
       "    }\n",
       "</style>\n",
       "<table border=\"1\" class=\"dataframe\">\n",
       "  <thead>\n",
       "    <tr style=\"text-align: right;\">\n",
       "      <th></th>\n",
       "      <th>Order ID</th>\n",
       "      <th>Country</th>\n",
       "      <th>Item Type</th>\n",
       "      <th>Order Date</th>\n",
       "      <th>Ship Date</th>\n",
       "      <th>Quantity</th>\n",
       "      <th>Sales Price</th>\n",
       "      <th>Unit Cost</th>\n",
       "    </tr>\n",
       "  </thead>\n",
       "  <tbody>\n",
       "    <tr>\n",
       "      <th>3</th>\n",
       "      <td>784543836</td>\n",
       "      <td>Panama</td>\n",
       "      <td>Personal Care</td>\n",
       "      <td>5/1/2011</td>\n",
       "      <td>5/11/2011</td>\n",
       "      <td>2810</td>\n",
       "      <td>81.73</td>\n",
       "      <td>56.67</td>\n",
       "    </tr>\n",
       "    <tr>\n",
       "      <th>4</th>\n",
       "      <td>137209212</td>\n",
       "      <td>Canada</td>\n",
       "      <td>Fruits</td>\n",
       "      <td>11/15/2013</td>\n",
       "      <td>12/29/2013</td>\n",
       "      <td>2110</td>\n",
       "      <td>9.33</td>\n",
       "      <td>6.92</td>\n",
       "    </tr>\n",
       "    <tr>\n",
       "      <th>5</th>\n",
       "      <td>148573625</td>\n",
       "      <td>Italy</td>\n",
       "      <td>Fruits</td>\n",
       "      <td>7/16/2016</td>\n",
       "      <td>7/18/2016</td>\n",
       "      <td>5092</td>\n",
       "      <td>9.33</td>\n",
       "      <td>6.92</td>\n",
       "    </tr>\n",
       "    <tr>\n",
       "      <th>6</th>\n",
       "      <td>196810901</td>\n",
       "      <td>Romania</td>\n",
       "      <td>Beverages</td>\n",
       "      <td>11/15/2012</td>\n",
       "      <td>12/1/2012</td>\n",
       "      <td>9574</td>\n",
       "      <td>47.45</td>\n",
       "      <td>31.79</td>\n",
       "    </tr>\n",
       "  </tbody>\n",
       "</table>\n",
       "</div>"
      ],
      "text/plain": [
       "    Order ID  Country      Item Type  Order Date   Ship Date  Quantity  \\\n",
       "3  784543836   Panama  Personal Care    5/1/2011   5/11/2011      2810   \n",
       "4  137209212   Canada         Fruits  11/15/2013  12/29/2013      2110   \n",
       "5  148573625    Italy         Fruits   7/16/2016   7/18/2016      5092   \n",
       "6  196810901  Romania      Beverages  11/15/2012   12/1/2012      9574   \n",
       "\n",
       "   Sales Price  Unit Cost  \n",
       "3        81.73      56.67  \n",
       "4         9.33       6.92  \n",
       "5         9.33       6.92  \n",
       "6        47.45      31.79  "
      ]
     },
     "execution_count": 22,
     "metadata": {},
     "output_type": "execute_result"
    }
   ],
   "source": [
    "multiple_rows = df1.iloc[3:7]  \n",
    "multiple_rows"
   ]
  },
  {
   "cell_type": "markdown",
   "id": "d0822cd0-7269-4b3e-9a80-3ee9322b5ff2",
   "metadata": {
    "panel-layout": {
     "height": 60.616668701171875,
     "visible": true,
     "width": 100
    }
   },
   "source": [
    "# FILTERING DEMONSTRATION"
   ]
  },
  {
   "cell_type": "markdown",
   "id": "683a7388-09a7-443b-8350-329bc9f4f134",
   "metadata": {
    "panel-layout": {
     "height": 50.850006103515625,
     "visible": true,
     "width": 100
    }
   },
   "source": [
    "## Selecting rows where the 'Quantity ' is less the 3000 "
   ]
  },
  {
   "cell_type": "code",
   "execution_count": 23,
   "id": "f6989985-c356-42a9-aa1f-cb920b1b42f3",
   "metadata": {
    "panel-layout": {
     "height": 200,
     "visible": true,
     "width": 100
    }
   },
   "outputs": [
    {
     "data": {
      "text/html": [
       "<div>\n",
       "<style scoped>\n",
       "    .dataframe tbody tr th:only-of-type {\n",
       "        vertical-align: middle;\n",
       "    }\n",
       "\n",
       "    .dataframe tbody tr th {\n",
       "        vertical-align: top;\n",
       "    }\n",
       "\n",
       "    .dataframe thead th {\n",
       "        text-align: right;\n",
       "    }\n",
       "</style>\n",
       "<table border=\"1\" class=\"dataframe\">\n",
       "  <thead>\n",
       "    <tr style=\"text-align: right;\">\n",
       "      <th></th>\n",
       "      <th>Order ID</th>\n",
       "      <th>Country</th>\n",
       "      <th>Item Type</th>\n",
       "      <th>Order Date</th>\n",
       "      <th>Ship Date</th>\n",
       "      <th>Quantity</th>\n",
       "      <th>Sales Price</th>\n",
       "      <th>Unit Cost</th>\n",
       "    </tr>\n",
       "  </thead>\n",
       "  <tbody>\n",
       "    <tr>\n",
       "      <th>3</th>\n",
       "      <td>784543836</td>\n",
       "      <td>Panama</td>\n",
       "      <td>Personal Care</td>\n",
       "      <td>5/1/2011</td>\n",
       "      <td>5/11/2011</td>\n",
       "      <td>2810</td>\n",
       "      <td>81.73</td>\n",
       "      <td>56.67</td>\n",
       "    </tr>\n",
       "    <tr>\n",
       "      <th>4</th>\n",
       "      <td>137209212</td>\n",
       "      <td>Canada</td>\n",
       "      <td>Fruits</td>\n",
       "      <td>11/15/2013</td>\n",
       "      <td>12/29/2013</td>\n",
       "      <td>2110</td>\n",
       "      <td>9.33</td>\n",
       "      <td>6.92</td>\n",
       "    </tr>\n",
       "    <tr>\n",
       "      <th>9</th>\n",
       "      <td>349185693</td>\n",
       "      <td>Japan</td>\n",
       "      <td>Clothes</td>\n",
       "      <td>3/25/2018</td>\n",
       "      <td>4/8/2018</td>\n",
       "      <td>661</td>\n",
       "      <td>109.28</td>\n",
       "      <td>35.84</td>\n",
       "    </tr>\n",
       "    <tr>\n",
       "      <th>11</th>\n",
       "      <td>349049222</td>\n",
       "      <td>Madagascar</td>\n",
       "      <td>Fruits</td>\n",
       "      <td>6/17/2014</td>\n",
       "      <td>7/10/2014</td>\n",
       "      <td>276</td>\n",
       "      <td>9.33</td>\n",
       "      <td>6.92</td>\n",
       "    </tr>\n",
       "    <tr>\n",
       "      <th>12</th>\n",
       "      <td>497674071</td>\n",
       "      <td>Saint Kitts and Nevis</td>\n",
       "      <td>Personal Care</td>\n",
       "      <td>11/11/2017</td>\n",
       "      <td>11/16/2017</td>\n",
       "      <td>1672</td>\n",
       "      <td>81.73</td>\n",
       "      <td>56.67</td>\n",
       "    </tr>\n",
       "    <tr>\n",
       "      <th>15</th>\n",
       "      <td>643594396</td>\n",
       "      <td>Botswana</td>\n",
       "      <td>Cereal</td>\n",
       "      <td>2/11/2017</td>\n",
       "      <td>2/24/2017</td>\n",
       "      <td>2739</td>\n",
       "      <td>205.70</td>\n",
       "      <td>117.11</td>\n",
       "    </tr>\n",
       "  </tbody>\n",
       "</table>\n",
       "</div>"
      ],
      "text/plain": [
       "     Order ID                 Country      Item Type  Order Date   Ship Date  \\\n",
       "3   784543836                  Panama  Personal Care    5/1/2011   5/11/2011   \n",
       "4   137209212                  Canada         Fruits  11/15/2013  12/29/2013   \n",
       "9   349185693                   Japan        Clothes   3/25/2018    4/8/2018   \n",
       "11  349049222              Madagascar         Fruits   6/17/2014   7/10/2014   \n",
       "12  497674071  Saint Kitts and Nevis   Personal Care  11/11/2017  11/16/2017   \n",
       "15  643594396                Botswana         Cereal   2/11/2017   2/24/2017   \n",
       "\n",
       "    Quantity  Sales Price  Unit Cost  \n",
       "3       2810        81.73      56.67  \n",
       "4       2110         9.33       6.92  \n",
       "9        661       109.28      35.84  \n",
       "11       276         9.33       6.92  \n",
       "12      1672        81.73      56.67  \n",
       "15      2739       205.70     117.11  "
      ]
     },
     "execution_count": 23,
     "metadata": {},
     "output_type": "execute_result"
    }
   ],
   "source": [
    "filtered_data = df1[df1['Quantity'] <3000] \n",
    "filtered_data"
   ]
  },
  {
   "cell_type": "markdown",
   "id": "38c07405-ea34-4ed9-859b-5d145f81ea45",
   "metadata": {
    "panel-layout": {
     "height": 50.850006103515625,
     "visible": true,
     "width": 100
    }
   },
   "source": [
    "## Filter row a where the country is either Australia, Cananda or Madagascar"
   ]
  },
  {
   "cell_type": "code",
   "execution_count": 24,
   "id": "21d65033-60d7-4a0c-8537-2929288964ec",
   "metadata": {
    "panel-layout": {
     "height": 146,
     "visible": true,
     "width": 100
    }
   },
   "outputs": [
    {
     "data": {
      "text/html": [
       "<div>\n",
       "<style scoped>\n",
       "    .dataframe tbody tr th:only-of-type {\n",
       "        vertical-align: middle;\n",
       "    }\n",
       "\n",
       "    .dataframe tbody tr th {\n",
       "        vertical-align: top;\n",
       "    }\n",
       "\n",
       "    .dataframe thead th {\n",
       "        text-align: right;\n",
       "    }\n",
       "</style>\n",
       "<table border=\"1\" class=\"dataframe\">\n",
       "  <thead>\n",
       "    <tr style=\"text-align: right;\">\n",
       "      <th></th>\n",
       "      <th>Order ID</th>\n",
       "      <th>Country</th>\n",
       "      <th>Item Type</th>\n",
       "      <th>Order Date</th>\n",
       "      <th>Ship Date</th>\n",
       "      <th>Quantity</th>\n",
       "      <th>Sales Price</th>\n",
       "      <th>Unit Cost</th>\n",
       "    </tr>\n",
       "  </thead>\n",
       "  <tbody>\n",
       "    <tr>\n",
       "      <th>0</th>\n",
       "      <td>451691138</td>\n",
       "      <td>Australia</td>\n",
       "      <td>Meat</td>\n",
       "      <td>4/4/2011</td>\n",
       "      <td>5/23/2011</td>\n",
       "      <td>4300</td>\n",
       "      <td>421.89</td>\n",
       "      <td>364.69</td>\n",
       "    </tr>\n",
       "    <tr>\n",
       "      <th>4</th>\n",
       "      <td>137209212</td>\n",
       "      <td>Canada</td>\n",
       "      <td>Fruits</td>\n",
       "      <td>11/15/2013</td>\n",
       "      <td>12/29/2013</td>\n",
       "      <td>2110</td>\n",
       "      <td>9.33</td>\n",
       "      <td>6.92</td>\n",
       "    </tr>\n",
       "    <tr>\n",
       "      <th>7</th>\n",
       "      <td>180407369</td>\n",
       "      <td>Australia</td>\n",
       "      <td>Cosmetics</td>\n",
       "      <td>4/30/2019</td>\n",
       "      <td>5/25/2019</td>\n",
       "      <td>5404</td>\n",
       "      <td>437.20</td>\n",
       "      <td>263.33</td>\n",
       "    </tr>\n",
       "    <tr>\n",
       "      <th>11</th>\n",
       "      <td>349049222</td>\n",
       "      <td>Madagascar</td>\n",
       "      <td>Fruits</td>\n",
       "      <td>6/17/2014</td>\n",
       "      <td>7/10/2014</td>\n",
       "      <td>276</td>\n",
       "      <td>9.33</td>\n",
       "      <td>6.92</td>\n",
       "    </tr>\n",
       "  </tbody>\n",
       "</table>\n",
       "</div>"
      ],
      "text/plain": [
       "     Order ID     Country  Item Type  Order Date   Ship Date  Quantity  \\\n",
       "0   451691138   Australia       Meat    4/4/2011   5/23/2011      4300   \n",
       "4   137209212      Canada     Fruits  11/15/2013  12/29/2013      2110   \n",
       "7   180407369   Australia  Cosmetics   4/30/2019   5/25/2019      5404   \n",
       "11  349049222  Madagascar     Fruits   6/17/2014   7/10/2014       276   \n",
       "\n",
       "    Sales Price  Unit Cost  \n",
       "0        421.89     364.69  \n",
       "4          9.33       6.92  \n",
       "7        437.20     263.33  \n",
       "11         9.33       6.92  "
      ]
     },
     "execution_count": 24,
     "metadata": {},
     "output_type": "execute_result"
    }
   ],
   "source": [
    "filtered_d = df1[df1['Country'].isin(['Australia', 'Canada','Madagascar'])] \n",
    "filtered_d\n"
   ]
  },
  {
   "cell_type": "markdown",
   "id": "3cb6a979-03ff-4a43-96d1-ca50b3d0e17b",
   "metadata": {
    "panel-layout": {
     "height": 50.850006103515625,
     "visible": true,
     "width": 100
    }
   },
   "source": [
    "## Filter rows where 'country ' is 'Australia' and Qunatity > 2000"
   ]
  },
  {
   "cell_type": "code",
   "execution_count": 25,
   "id": "e44032e7-4d28-4cf9-9a8c-ff56451bac5c",
   "metadata": {
    "panel-layout": {
     "height": 92,
     "visible": true,
     "width": 100
    }
   },
   "outputs": [
    {
     "data": {
      "text/html": [
       "<div>\n",
       "<style scoped>\n",
       "    .dataframe tbody tr th:only-of-type {\n",
       "        vertical-align: middle;\n",
       "    }\n",
       "\n",
       "    .dataframe tbody tr th {\n",
       "        vertical-align: top;\n",
       "    }\n",
       "\n",
       "    .dataframe thead th {\n",
       "        text-align: right;\n",
       "    }\n",
       "</style>\n",
       "<table border=\"1\" class=\"dataframe\">\n",
       "  <thead>\n",
       "    <tr style=\"text-align: right;\">\n",
       "      <th></th>\n",
       "      <th>Order ID</th>\n",
       "      <th>Country</th>\n",
       "      <th>Item Type</th>\n",
       "      <th>Order Date</th>\n",
       "      <th>Ship Date</th>\n",
       "      <th>Quantity</th>\n",
       "      <th>Sales Price</th>\n",
       "      <th>Unit Cost</th>\n",
       "    </tr>\n",
       "  </thead>\n",
       "  <tbody>\n",
       "    <tr>\n",
       "      <th>0</th>\n",
       "      <td>451691138</td>\n",
       "      <td>Australia</td>\n",
       "      <td>Meat</td>\n",
       "      <td>4/4/2011</td>\n",
       "      <td>5/23/2011</td>\n",
       "      <td>4300</td>\n",
       "      <td>421.89</td>\n",
       "      <td>364.69</td>\n",
       "    </tr>\n",
       "    <tr>\n",
       "      <th>7</th>\n",
       "      <td>180407369</td>\n",
       "      <td>Australia</td>\n",
       "      <td>Cosmetics</td>\n",
       "      <td>4/30/2019</td>\n",
       "      <td>5/25/2019</td>\n",
       "      <td>5404</td>\n",
       "      <td>437.20</td>\n",
       "      <td>263.33</td>\n",
       "    </tr>\n",
       "  </tbody>\n",
       "</table>\n",
       "</div>"
      ],
      "text/plain": [
       "    Order ID    Country  Item Type Order Date  Ship Date  Quantity  \\\n",
       "0  451691138  Australia       Meat   4/4/2011  5/23/2011      4300   \n",
       "7  180407369  Australia  Cosmetics  4/30/2019  5/25/2019      5404   \n",
       "\n",
       "   Sales Price  Unit Cost  \n",
       "0       421.89     364.69  \n",
       "7       437.20     263.33  "
      ]
     },
     "execution_count": 25,
     "metadata": {},
     "output_type": "execute_result"
    }
   ],
   "source": [
    "\n",
    "filtered_cont1 = df1[(df1['Country'] == 'Australia') & (df1['Quantity'] > 2000)]\n",
    "filtered_cont1"
   ]
  },
  {
   "cell_type": "markdown",
   "id": "8849bcea-938e-48b7-bc17-792ac99e9798",
   "metadata": {
    "panel-layout": {
     "height": 50.850006103515625,
     "visible": true,
     "width": 100
    }
   },
   "source": [
    "## Filter rows where 'country 'is'Australia'or'Canada' using query"
   ]
  },
  {
   "cell_type": "code",
   "execution_count": 26,
   "id": "83acda22-6847-4fd0-9fa4-8bc952692981",
   "metadata": {
    "panel-layout": {
     "height": 119,
     "visible": true,
     "width": 100
    }
   },
   "outputs": [
    {
     "data": {
      "text/html": [
       "<div>\n",
       "<style scoped>\n",
       "    .dataframe tbody tr th:only-of-type {\n",
       "        vertical-align: middle;\n",
       "    }\n",
       "\n",
       "    .dataframe tbody tr th {\n",
       "        vertical-align: top;\n",
       "    }\n",
       "\n",
       "    .dataframe thead th {\n",
       "        text-align: right;\n",
       "    }\n",
       "</style>\n",
       "<table border=\"1\" class=\"dataframe\">\n",
       "  <thead>\n",
       "    <tr style=\"text-align: right;\">\n",
       "      <th></th>\n",
       "      <th>Order ID</th>\n",
       "      <th>Country</th>\n",
       "      <th>Item Type</th>\n",
       "      <th>Order Date</th>\n",
       "      <th>Ship Date</th>\n",
       "      <th>Quantity</th>\n",
       "      <th>Sales Price</th>\n",
       "      <th>Unit Cost</th>\n",
       "    </tr>\n",
       "  </thead>\n",
       "  <tbody>\n",
       "    <tr>\n",
       "      <th>0</th>\n",
       "      <td>451691138</td>\n",
       "      <td>Australia</td>\n",
       "      <td>Meat</td>\n",
       "      <td>4/4/2011</td>\n",
       "      <td>5/23/2011</td>\n",
       "      <td>4300</td>\n",
       "      <td>421.89</td>\n",
       "      <td>364.69</td>\n",
       "    </tr>\n",
       "    <tr>\n",
       "      <th>4</th>\n",
       "      <td>137209212</td>\n",
       "      <td>Canada</td>\n",
       "      <td>Fruits</td>\n",
       "      <td>11/15/2013</td>\n",
       "      <td>12/29/2013</td>\n",
       "      <td>2110</td>\n",
       "      <td>9.33</td>\n",
       "      <td>6.92</td>\n",
       "    </tr>\n",
       "    <tr>\n",
       "      <th>7</th>\n",
       "      <td>180407369</td>\n",
       "      <td>Australia</td>\n",
       "      <td>Cosmetics</td>\n",
       "      <td>4/30/2019</td>\n",
       "      <td>5/25/2019</td>\n",
       "      <td>5404</td>\n",
       "      <td>437.20</td>\n",
       "      <td>263.33</td>\n",
       "    </tr>\n",
       "  </tbody>\n",
       "</table>\n",
       "</div>"
      ],
      "text/plain": [
       "    Order ID    Country  Item Type  Order Date   Ship Date  Quantity  \\\n",
       "0  451691138  Australia       Meat    4/4/2011   5/23/2011      4300   \n",
       "4  137209212     Canada     Fruits  11/15/2013  12/29/2013      2110   \n",
       "7  180407369  Australia  Cosmetics   4/30/2019   5/25/2019      5404   \n",
       "\n",
       "   Sales Price  Unit Cost  \n",
       "0       421.89     364.69  \n",
       "4         9.33       6.92  \n",
       "7       437.20     263.33  "
      ]
     },
     "execution_count": 26,
     "metadata": {},
     "output_type": "execute_result"
    }
   ],
   "source": [
    "filtered_cont3 = df1.query(\"Country == 'Australia' or Country == 'Canada'\")\n",
    "\n",
    "filtered_cont3\n"
   ]
  },
  {
   "cell_type": "markdown",
   "id": "92ec8b48-7252-463e-9f0c-abe4cf0c57ae",
   "metadata": {
    "panel-layout": {
     "height": 50.850006103515625,
     "visible": true,
     "width": 100
    }
   },
   "source": [
    "## Filter rows where 'Country' is not 'canada' (Canada is excluded in the filter)"
   ]
  },
  {
   "cell_type": "code",
   "execution_count": 27,
   "id": "c1de6396-1f5f-4637-89b1-79cfa2c22e36",
   "metadata": {
    "panel-layout": {
     "height": 551,
     "visible": true,
     "width": 100
    }
   },
   "outputs": [
    {
     "data": {
      "text/html": [
       "<div>\n",
       "<style scoped>\n",
       "    .dataframe tbody tr th:only-of-type {\n",
       "        vertical-align: middle;\n",
       "    }\n",
       "\n",
       "    .dataframe tbody tr th {\n",
       "        vertical-align: top;\n",
       "    }\n",
       "\n",
       "    .dataframe thead th {\n",
       "        text-align: right;\n",
       "    }\n",
       "</style>\n",
       "<table border=\"1\" class=\"dataframe\">\n",
       "  <thead>\n",
       "    <tr style=\"text-align: right;\">\n",
       "      <th></th>\n",
       "      <th>Order ID</th>\n",
       "      <th>Country</th>\n",
       "      <th>Item Type</th>\n",
       "      <th>Order Date</th>\n",
       "      <th>Ship Date</th>\n",
       "      <th>Quantity</th>\n",
       "      <th>Sales Price</th>\n",
       "      <th>Unit Cost</th>\n",
       "    </tr>\n",
       "  </thead>\n",
       "  <tbody>\n",
       "    <tr>\n",
       "      <th>0</th>\n",
       "      <td>451691138</td>\n",
       "      <td>Australia</td>\n",
       "      <td>Meat</td>\n",
       "      <td>4/4/2011</td>\n",
       "      <td>5/23/2011</td>\n",
       "      <td>4300</td>\n",
       "      <td>421.89</td>\n",
       "      <td>364.69</td>\n",
       "    </tr>\n",
       "    <tr>\n",
       "      <th>1</th>\n",
       "      <td>144177377</td>\n",
       "      <td>Tajikistan</td>\n",
       "      <td>Personal Care</td>\n",
       "      <td>7/12/2018</td>\n",
       "      <td>8/1/2018</td>\n",
       "      <td>4145</td>\n",
       "      <td>81.73</td>\n",
       "      <td>56.67</td>\n",
       "    </tr>\n",
       "    <tr>\n",
       "      <th>2</th>\n",
       "      <td>982716166</td>\n",
       "      <td>Mozambique</td>\n",
       "      <td>Cosmetics</td>\n",
       "      <td>7/6/2011</td>\n",
       "      <td>7/17/2011</td>\n",
       "      <td>6407</td>\n",
       "      <td>437.20</td>\n",
       "      <td>263.33</td>\n",
       "    </tr>\n",
       "    <tr>\n",
       "      <th>3</th>\n",
       "      <td>784543836</td>\n",
       "      <td>Panama</td>\n",
       "      <td>Personal Care</td>\n",
       "      <td>5/1/2011</td>\n",
       "      <td>5/11/2011</td>\n",
       "      <td>2810</td>\n",
       "      <td>81.73</td>\n",
       "      <td>56.67</td>\n",
       "    </tr>\n",
       "    <tr>\n",
       "      <th>5</th>\n",
       "      <td>148573625</td>\n",
       "      <td>Italy</td>\n",
       "      <td>Fruits</td>\n",
       "      <td>7/16/2016</td>\n",
       "      <td>7/18/2016</td>\n",
       "      <td>5092</td>\n",
       "      <td>9.33</td>\n",
       "      <td>6.92</td>\n",
       "    </tr>\n",
       "    <tr>\n",
       "      <th>6</th>\n",
       "      <td>196810901</td>\n",
       "      <td>Romania</td>\n",
       "      <td>Beverages</td>\n",
       "      <td>11/15/2012</td>\n",
       "      <td>12/1/2012</td>\n",
       "      <td>9574</td>\n",
       "      <td>47.45</td>\n",
       "      <td>31.79</td>\n",
       "    </tr>\n",
       "    <tr>\n",
       "      <th>7</th>\n",
       "      <td>180407369</td>\n",
       "      <td>Australia</td>\n",
       "      <td>Cosmetics</td>\n",
       "      <td>4/30/2019</td>\n",
       "      <td>5/25/2019</td>\n",
       "      <td>5404</td>\n",
       "      <td>437.20</td>\n",
       "      <td>263.33</td>\n",
       "    </tr>\n",
       "    <tr>\n",
       "      <th>8</th>\n",
       "      <td>968161857</td>\n",
       "      <td>Bosnia and Herzegovina</td>\n",
       "      <td>Cosmetics</td>\n",
       "      <td>5/29/2016</td>\n",
       "      <td>6/8/2016</td>\n",
       "      <td>9463</td>\n",
       "      <td>437.20</td>\n",
       "      <td>263.33</td>\n",
       "    </tr>\n",
       "    <tr>\n",
       "      <th>9</th>\n",
       "      <td>349185693</td>\n",
       "      <td>Japan</td>\n",
       "      <td>Clothes</td>\n",
       "      <td>3/25/2018</td>\n",
       "      <td>4/8/2018</td>\n",
       "      <td>661</td>\n",
       "      <td>109.28</td>\n",
       "      <td>35.84</td>\n",
       "    </tr>\n",
       "    <tr>\n",
       "      <th>10</th>\n",
       "      <td>682902705</td>\n",
       "      <td>Papua New Guinea</td>\n",
       "      <td>Beverages</td>\n",
       "      <td>8/28/2013</td>\n",
       "      <td>9/18/2013</td>\n",
       "      <td>4941</td>\n",
       "      <td>47.45</td>\n",
       "      <td>31.79</td>\n",
       "    </tr>\n",
       "    <tr>\n",
       "      <th>11</th>\n",
       "      <td>349049222</td>\n",
       "      <td>Madagascar</td>\n",
       "      <td>Fruits</td>\n",
       "      <td>6/17/2014</td>\n",
       "      <td>7/10/2014</td>\n",
       "      <td>276</td>\n",
       "      <td>9.33</td>\n",
       "      <td>6.92</td>\n",
       "    </tr>\n",
       "    <tr>\n",
       "      <th>12</th>\n",
       "      <td>497674071</td>\n",
       "      <td>Saint Kitts and Nevis</td>\n",
       "      <td>Personal Care</td>\n",
       "      <td>11/11/2017</td>\n",
       "      <td>11/16/2017</td>\n",
       "      <td>1672</td>\n",
       "      <td>81.73</td>\n",
       "      <td>56.67</td>\n",
       "    </tr>\n",
       "    <tr>\n",
       "      <th>13</th>\n",
       "      <td>999138581</td>\n",
       "      <td>Slovakia</td>\n",
       "      <td>Meat</td>\n",
       "      <td>11/26/2011</td>\n",
       "      <td>12/10/2011</td>\n",
       "      <td>6164</td>\n",
       "      <td>421.89</td>\n",
       "      <td>364.69</td>\n",
       "    </tr>\n",
       "    <tr>\n",
       "      <th>14</th>\n",
       "      <td>894116580</td>\n",
       "      <td>Eritrea</td>\n",
       "      <td>Meat</td>\n",
       "      <td>11/9/2012</td>\n",
       "      <td>12/13/2012</td>\n",
       "      <td>7820</td>\n",
       "      <td>421.89</td>\n",
       "      <td>364.69</td>\n",
       "    </tr>\n",
       "    <tr>\n",
       "      <th>15</th>\n",
       "      <td>643594396</td>\n",
       "      <td>Botswana</td>\n",
       "      <td>Cereal</td>\n",
       "      <td>2/11/2017</td>\n",
       "      <td>2/24/2017</td>\n",
       "      <td>2739</td>\n",
       "      <td>205.70</td>\n",
       "      <td>117.11</td>\n",
       "    </tr>\n",
       "    <tr>\n",
       "      <th>16</th>\n",
       "      <td>778870856</td>\n",
       "      <td>Micronesia</td>\n",
       "      <td>Household</td>\n",
       "      <td>3/25/2017</td>\n",
       "      <td>5/3/2017</td>\n",
       "      <td>4049</td>\n",
       "      <td>668.27</td>\n",
       "      <td>502.54</td>\n",
       "    </tr>\n",
       "    <tr>\n",
       "      <th>17</th>\n",
       "      <td>551557290</td>\n",
       "      <td>Uzbekistan</td>\n",
       "      <td>Meat</td>\n",
       "      <td>12/11/2017</td>\n",
       "      <td>12/20/2017</td>\n",
       "      <td>6914</td>\n",
       "      <td>421.89</td>\n",
       "      <td>364.69</td>\n",
       "    </tr>\n",
       "    <tr>\n",
       "      <th>18</th>\n",
       "      <td>183577525</td>\n",
       "      <td>Jordan</td>\n",
       "      <td>Beverages</td>\n",
       "      <td>2/29/2020</td>\n",
       "      <td>3/13/2020</td>\n",
       "      <td>3524</td>\n",
       "      <td>47.45</td>\n",
       "      <td>31.79</td>\n",
       "    </tr>\n",
       "    <tr>\n",
       "      <th>19</th>\n",
       "      <td>417167890</td>\n",
       "      <td>Micronesia</td>\n",
       "      <td>Snacks</td>\n",
       "      <td>8/6/2015</td>\n",
       "      <td>8/8/2015</td>\n",
       "      <td>8104</td>\n",
       "      <td>152.58</td>\n",
       "      <td>97.44</td>\n",
       "    </tr>\n",
       "  </tbody>\n",
       "</table>\n",
       "</div>"
      ],
      "text/plain": [
       "     Order ID                 Country      Item Type  Order Date   Ship Date  \\\n",
       "0   451691138               Australia           Meat    4/4/2011   5/23/2011   \n",
       "1   144177377              Tajikistan  Personal Care   7/12/2018    8/1/2018   \n",
       "2   982716166              Mozambique      Cosmetics    7/6/2011   7/17/2011   \n",
       "3   784543836                  Panama  Personal Care    5/1/2011   5/11/2011   \n",
       "5   148573625                   Italy         Fruits   7/16/2016   7/18/2016   \n",
       "6   196810901                 Romania      Beverages  11/15/2012   12/1/2012   \n",
       "7   180407369               Australia      Cosmetics   4/30/2019   5/25/2019   \n",
       "8   968161857  Bosnia and Herzegovina      Cosmetics   5/29/2016    6/8/2016   \n",
       "9   349185693                   Japan        Clothes   3/25/2018    4/8/2018   \n",
       "10  682902705        Papua New Guinea      Beverages   8/28/2013   9/18/2013   \n",
       "11  349049222              Madagascar         Fruits   6/17/2014   7/10/2014   \n",
       "12  497674071  Saint Kitts and Nevis   Personal Care  11/11/2017  11/16/2017   \n",
       "13  999138581                Slovakia           Meat  11/26/2011  12/10/2011   \n",
       "14  894116580                 Eritrea           Meat   11/9/2012  12/13/2012   \n",
       "15  643594396                Botswana         Cereal   2/11/2017   2/24/2017   \n",
       "16  778870856              Micronesia      Household   3/25/2017    5/3/2017   \n",
       "17  551557290              Uzbekistan           Meat  12/11/2017  12/20/2017   \n",
       "18  183577525                  Jordan      Beverages   2/29/2020   3/13/2020   \n",
       "19  417167890              Micronesia         Snacks    8/6/2015    8/8/2015   \n",
       "\n",
       "    Quantity  Sales Price  Unit Cost  \n",
       "0       4300       421.89     364.69  \n",
       "1       4145        81.73      56.67  \n",
       "2       6407       437.20     263.33  \n",
       "3       2810        81.73      56.67  \n",
       "5       5092         9.33       6.92  \n",
       "6       9574        47.45      31.79  \n",
       "7       5404       437.20     263.33  \n",
       "8       9463       437.20     263.33  \n",
       "9        661       109.28      35.84  \n",
       "10      4941        47.45      31.79  \n",
       "11       276         9.33       6.92  \n",
       "12      1672        81.73      56.67  \n",
       "13      6164       421.89     364.69  \n",
       "14      7820       421.89     364.69  \n",
       "15      2739       205.70     117.11  \n",
       "16      4049       668.27     502.54  \n",
       "17      6914       421.89     364.69  \n",
       "18      3524        47.45      31.79  \n",
       "19      8104       152.58      97.44  "
      ]
     },
     "execution_count": 27,
     "metadata": {},
     "output_type": "execute_result"
    }
   ],
   "source": [
    "filtered_cont2 = df1[df1['Country'] != 'Canada']\n",
    "filtered_cont2"
   ]
  },
  {
   "cell_type": "markdown",
   "id": "b6aa54dd-7f6f-4603-b3d3-76a1934483b8",
   "metadata": {
    "panel-layout": {
     "height": 60.616668701171875,
     "visible": true,
     "width": 100
    }
   },
   "source": [
    "# Filter rows where 'Quantity' > 2000 and ' Sales Price' > 100"
   ]
  },
  {
   "cell_type": "code",
   "execution_count": 28,
   "id": "e39d49f7-5cdf-4afa-b456-ad4c951a97da",
   "metadata": {
    "panel-layout": {
     "height": 281,
     "visible": true,
     "width": 100
    }
   },
   "outputs": [
    {
     "data": {
      "text/html": [
       "<div>\n",
       "<style scoped>\n",
       "    .dataframe tbody tr th:only-of-type {\n",
       "        vertical-align: middle;\n",
       "    }\n",
       "\n",
       "    .dataframe tbody tr th {\n",
       "        vertical-align: top;\n",
       "    }\n",
       "\n",
       "    .dataframe thead th {\n",
       "        text-align: right;\n",
       "    }\n",
       "</style>\n",
       "<table border=\"1\" class=\"dataframe\">\n",
       "  <thead>\n",
       "    <tr style=\"text-align: right;\">\n",
       "      <th></th>\n",
       "      <th>Order ID</th>\n",
       "      <th>Country</th>\n",
       "      <th>Item Type</th>\n",
       "      <th>Order Date</th>\n",
       "      <th>Ship Date</th>\n",
       "      <th>Quantity</th>\n",
       "      <th>Sales Price</th>\n",
       "      <th>Unit Cost</th>\n",
       "    </tr>\n",
       "  </thead>\n",
       "  <tbody>\n",
       "    <tr>\n",
       "      <th>1</th>\n",
       "      <td>144177377</td>\n",
       "      <td>Tajikistan</td>\n",
       "      <td>Personal Care</td>\n",
       "      <td>7/12/2018</td>\n",
       "      <td>8/1/2018</td>\n",
       "      <td>4145</td>\n",
       "      <td>81.73</td>\n",
       "      <td>56.67</td>\n",
       "    </tr>\n",
       "    <tr>\n",
       "      <th>3</th>\n",
       "      <td>784543836</td>\n",
       "      <td>Panama</td>\n",
       "      <td>Personal Care</td>\n",
       "      <td>5/1/2011</td>\n",
       "      <td>5/11/2011</td>\n",
       "      <td>2810</td>\n",
       "      <td>81.73</td>\n",
       "      <td>56.67</td>\n",
       "    </tr>\n",
       "    <tr>\n",
       "      <th>4</th>\n",
       "      <td>137209212</td>\n",
       "      <td>Canada</td>\n",
       "      <td>Fruits</td>\n",
       "      <td>11/15/2013</td>\n",
       "      <td>12/29/2013</td>\n",
       "      <td>2110</td>\n",
       "      <td>9.33</td>\n",
       "      <td>6.92</td>\n",
       "    </tr>\n",
       "    <tr>\n",
       "      <th>5</th>\n",
       "      <td>148573625</td>\n",
       "      <td>Italy</td>\n",
       "      <td>Fruits</td>\n",
       "      <td>7/16/2016</td>\n",
       "      <td>7/18/2016</td>\n",
       "      <td>5092</td>\n",
       "      <td>9.33</td>\n",
       "      <td>6.92</td>\n",
       "    </tr>\n",
       "    <tr>\n",
       "      <th>6</th>\n",
       "      <td>196810901</td>\n",
       "      <td>Romania</td>\n",
       "      <td>Beverages</td>\n",
       "      <td>11/15/2012</td>\n",
       "      <td>12/1/2012</td>\n",
       "      <td>9574</td>\n",
       "      <td>47.45</td>\n",
       "      <td>31.79</td>\n",
       "    </tr>\n",
       "    <tr>\n",
       "      <th>10</th>\n",
       "      <td>682902705</td>\n",
       "      <td>Papua New Guinea</td>\n",
       "      <td>Beverages</td>\n",
       "      <td>8/28/2013</td>\n",
       "      <td>9/18/2013</td>\n",
       "      <td>4941</td>\n",
       "      <td>47.45</td>\n",
       "      <td>31.79</td>\n",
       "    </tr>\n",
       "    <tr>\n",
       "      <th>15</th>\n",
       "      <td>643594396</td>\n",
       "      <td>Botswana</td>\n",
       "      <td>Cereal</td>\n",
       "      <td>2/11/2017</td>\n",
       "      <td>2/24/2017</td>\n",
       "      <td>2739</td>\n",
       "      <td>205.70</td>\n",
       "      <td>117.11</td>\n",
       "    </tr>\n",
       "    <tr>\n",
       "      <th>18</th>\n",
       "      <td>183577525</td>\n",
       "      <td>Jordan</td>\n",
       "      <td>Beverages</td>\n",
       "      <td>2/29/2020</td>\n",
       "      <td>3/13/2020</td>\n",
       "      <td>3524</td>\n",
       "      <td>47.45</td>\n",
       "      <td>31.79</td>\n",
       "    </tr>\n",
       "    <tr>\n",
       "      <th>19</th>\n",
       "      <td>417167890</td>\n",
       "      <td>Micronesia</td>\n",
       "      <td>Snacks</td>\n",
       "      <td>8/6/2015</td>\n",
       "      <td>8/8/2015</td>\n",
       "      <td>8104</td>\n",
       "      <td>152.58</td>\n",
       "      <td>97.44</td>\n",
       "    </tr>\n",
       "  </tbody>\n",
       "</table>\n",
       "</div>"
      ],
      "text/plain": [
       "     Order ID           Country      Item Type  Order Date   Ship Date  \\\n",
       "1   144177377        Tajikistan  Personal Care   7/12/2018    8/1/2018   \n",
       "3   784543836            Panama  Personal Care    5/1/2011   5/11/2011   \n",
       "4   137209212            Canada         Fruits  11/15/2013  12/29/2013   \n",
       "5   148573625             Italy         Fruits   7/16/2016   7/18/2016   \n",
       "6   196810901           Romania      Beverages  11/15/2012   12/1/2012   \n",
       "10  682902705  Papua New Guinea      Beverages   8/28/2013   9/18/2013   \n",
       "15  643594396          Botswana         Cereal   2/11/2017   2/24/2017   \n",
       "18  183577525            Jordan      Beverages   2/29/2020   3/13/2020   \n",
       "19  417167890        Micronesia         Snacks    8/6/2015    8/8/2015   \n",
       "\n",
       "    Quantity  Sales Price  Unit Cost  \n",
       "1       4145        81.73      56.67  \n",
       "3       2810        81.73      56.67  \n",
       "4       2110         9.33       6.92  \n",
       "5       5092         9.33       6.92  \n",
       "6       9574        47.45      31.79  \n",
       "10      4941        47.45      31.79  \n",
       "15      2739       205.70     117.11  \n",
       "18      3524        47.45      31.79  \n",
       "19      8104       152.58      97.44  "
      ]
     },
     "execution_count": 28,
     "metadata": {},
     "output_type": "execute_result"
    }
   ],
   "source": [
    "filtered_cont4 = df1.query(\"Quantity > 2000 and `Sales Price` < 300\")\n",
    "filtered_cont4"
   ]
  },
  {
   "cell_type": "markdown",
   "id": "23fce5f6-bd08-4abb-9d92-0bec267c01d1",
   "metadata": {
    "panel-layout": {
     "height": 50.850006103515625,
     "visible": true,
     "width": 100
    }
   },
   "source": [
    "## Filter rows where 'countyr' is 'Italy', 'Quantity' > 2000, and 'Item Type' is 'meat or Fruits'"
   ]
  },
  {
   "cell_type": "code",
   "execution_count": 29,
   "id": "c6047b81-3d27-4ea2-b19c-26e1861d6e79",
   "metadata": {
    "panel-layout": {
     "height": 65,
     "visible": true,
     "width": 100
    }
   },
   "outputs": [
    {
     "data": {
      "text/html": [
       "<div>\n",
       "<style scoped>\n",
       "    .dataframe tbody tr th:only-of-type {\n",
       "        vertical-align: middle;\n",
       "    }\n",
       "\n",
       "    .dataframe tbody tr th {\n",
       "        vertical-align: top;\n",
       "    }\n",
       "\n",
       "    .dataframe thead th {\n",
       "        text-align: right;\n",
       "    }\n",
       "</style>\n",
       "<table border=\"1\" class=\"dataframe\">\n",
       "  <thead>\n",
       "    <tr style=\"text-align: right;\">\n",
       "      <th></th>\n",
       "      <th>Order ID</th>\n",
       "      <th>Country</th>\n",
       "      <th>Item Type</th>\n",
       "      <th>Order Date</th>\n",
       "      <th>Ship Date</th>\n",
       "      <th>Quantity</th>\n",
       "      <th>Sales Price</th>\n",
       "      <th>Unit Cost</th>\n",
       "    </tr>\n",
       "  </thead>\n",
       "  <tbody>\n",
       "    <tr>\n",
       "      <th>5</th>\n",
       "      <td>148573625</td>\n",
       "      <td>Italy</td>\n",
       "      <td>Fruits</td>\n",
       "      <td>7/16/2016</td>\n",
       "      <td>7/18/2016</td>\n",
       "      <td>5092</td>\n",
       "      <td>9.33</td>\n",
       "      <td>6.92</td>\n",
       "    </tr>\n",
       "  </tbody>\n",
       "</table>\n",
       "</div>"
      ],
      "text/plain": [
       "    Order ID Country Item Type Order Date  Ship Date  Quantity  Sales Price  \\\n",
       "5  148573625   Italy    Fruits  7/16/2016  7/18/2016      5092         9.33   \n",
       "\n",
       "   Unit Cost  \n",
       "5       6.92  "
      ]
     },
     "execution_count": 29,
     "metadata": {},
     "output_type": "execute_result"
    }
   ],
   "source": [
    "filtered_cont5 = df1[(df1['Country'] == 'Italy') &\n",
    "                     (df1['Quantity'] > 2000) & \n",
    "                     (df1['Item Type'] == 'Fruits')]\n",
    "filtered_cont5"
   ]
  },
  {
   "cell_type": "markdown",
   "id": "ae7bba42-d593-4f27-9ba7-efb1f6460eaa",
   "metadata": {
    "panel-layout": {
     "height": 60.616668701171875,
     "visible": true,
     "width": 100
    }
   },
   "source": [
    "# Filter rows where 'Item Type' is Meat and Cosmetics"
   ]
  },
  {
   "cell_type": "code",
   "execution_count": 30,
   "id": "62a29b67-2d07-488b-83f4-f4303908f358",
   "metadata": {
    "panel-layout": {
     "height": 227,
     "visible": true,
     "width": 100
    }
   },
   "outputs": [
    {
     "data": {
      "text/html": [
       "<div>\n",
       "<style scoped>\n",
       "    .dataframe tbody tr th:only-of-type {\n",
       "        vertical-align: middle;\n",
       "    }\n",
       "\n",
       "    .dataframe tbody tr th {\n",
       "        vertical-align: top;\n",
       "    }\n",
       "\n",
       "    .dataframe thead th {\n",
       "        text-align: right;\n",
       "    }\n",
       "</style>\n",
       "<table border=\"1\" class=\"dataframe\">\n",
       "  <thead>\n",
       "    <tr style=\"text-align: right;\">\n",
       "      <th></th>\n",
       "      <th>Order ID</th>\n",
       "      <th>Country</th>\n",
       "      <th>Item Type</th>\n",
       "      <th>Order Date</th>\n",
       "      <th>Ship Date</th>\n",
       "      <th>Quantity</th>\n",
       "      <th>Sales Price</th>\n",
       "      <th>Unit Cost</th>\n",
       "    </tr>\n",
       "  </thead>\n",
       "  <tbody>\n",
       "    <tr>\n",
       "      <th>0</th>\n",
       "      <td>451691138</td>\n",
       "      <td>Australia</td>\n",
       "      <td>Meat</td>\n",
       "      <td>4/4/2011</td>\n",
       "      <td>5/23/2011</td>\n",
       "      <td>4300</td>\n",
       "      <td>421.89</td>\n",
       "      <td>364.69</td>\n",
       "    </tr>\n",
       "    <tr>\n",
       "      <th>2</th>\n",
       "      <td>982716166</td>\n",
       "      <td>Mozambique</td>\n",
       "      <td>Cosmetics</td>\n",
       "      <td>7/6/2011</td>\n",
       "      <td>7/17/2011</td>\n",
       "      <td>6407</td>\n",
       "      <td>437.20</td>\n",
       "      <td>263.33</td>\n",
       "    </tr>\n",
       "    <tr>\n",
       "      <th>7</th>\n",
       "      <td>180407369</td>\n",
       "      <td>Australia</td>\n",
       "      <td>Cosmetics</td>\n",
       "      <td>4/30/2019</td>\n",
       "      <td>5/25/2019</td>\n",
       "      <td>5404</td>\n",
       "      <td>437.20</td>\n",
       "      <td>263.33</td>\n",
       "    </tr>\n",
       "    <tr>\n",
       "      <th>8</th>\n",
       "      <td>968161857</td>\n",
       "      <td>Bosnia and Herzegovina</td>\n",
       "      <td>Cosmetics</td>\n",
       "      <td>5/29/2016</td>\n",
       "      <td>6/8/2016</td>\n",
       "      <td>9463</td>\n",
       "      <td>437.20</td>\n",
       "      <td>263.33</td>\n",
       "    </tr>\n",
       "    <tr>\n",
       "      <th>13</th>\n",
       "      <td>999138581</td>\n",
       "      <td>Slovakia</td>\n",
       "      <td>Meat</td>\n",
       "      <td>11/26/2011</td>\n",
       "      <td>12/10/2011</td>\n",
       "      <td>6164</td>\n",
       "      <td>421.89</td>\n",
       "      <td>364.69</td>\n",
       "    </tr>\n",
       "    <tr>\n",
       "      <th>14</th>\n",
       "      <td>894116580</td>\n",
       "      <td>Eritrea</td>\n",
       "      <td>Meat</td>\n",
       "      <td>11/9/2012</td>\n",
       "      <td>12/13/2012</td>\n",
       "      <td>7820</td>\n",
       "      <td>421.89</td>\n",
       "      <td>364.69</td>\n",
       "    </tr>\n",
       "    <tr>\n",
       "      <th>17</th>\n",
       "      <td>551557290</td>\n",
       "      <td>Uzbekistan</td>\n",
       "      <td>Meat</td>\n",
       "      <td>12/11/2017</td>\n",
       "      <td>12/20/2017</td>\n",
       "      <td>6914</td>\n",
       "      <td>421.89</td>\n",
       "      <td>364.69</td>\n",
       "    </tr>\n",
       "  </tbody>\n",
       "</table>\n",
       "</div>"
      ],
      "text/plain": [
       "     Order ID                 Country  Item Type  Order Date   Ship Date  \\\n",
       "0   451691138               Australia       Meat    4/4/2011   5/23/2011   \n",
       "2   982716166              Mozambique  Cosmetics    7/6/2011   7/17/2011   \n",
       "7   180407369               Australia  Cosmetics   4/30/2019   5/25/2019   \n",
       "8   968161857  Bosnia and Herzegovina  Cosmetics   5/29/2016    6/8/2016   \n",
       "13  999138581                Slovakia       Meat  11/26/2011  12/10/2011   \n",
       "14  894116580                 Eritrea       Meat   11/9/2012  12/13/2012   \n",
       "17  551557290              Uzbekistan       Meat  12/11/2017  12/20/2017   \n",
       "\n",
       "    Quantity  Sales Price  Unit Cost  \n",
       "0       4300       421.89     364.69  \n",
       "2       6407       437.20     263.33  \n",
       "7       5404       437.20     263.33  \n",
       "8       9463       437.20     263.33  \n",
       "13      6164       421.89     364.69  \n",
       "14      7820       421.89     364.69  \n",
       "17      6914       421.89     364.69  "
      ]
     },
     "execution_count": 30,
     "metadata": {},
     "output_type": "execute_result"
    }
   ],
   "source": [
    "filtered_cont6 = df1[df1['Item Type'].isin(['Meat', 'Cosmetics'])]\n",
    "filtered_cont6"
   ]
  },
  {
   "cell_type": "markdown",
   "id": "ef7ece70-cafd-415a-b286-677bde7c774e",
   "metadata": {
    "panel-layout": {
     "height": 60.616668701171875,
     "visible": true,
     "width": 100
    }
   },
   "source": [
    "# Filter rows where 'Quantity' is between 2000 and 5000"
   ]
  },
  {
   "cell_type": "code",
   "execution_count": 31,
   "id": "d9536341-e156-4aa8-a5ee-b2ddea531522",
   "metadata": {
    "panel-layout": {
     "height": 254,
     "visible": true,
     "width": 100
    }
   },
   "outputs": [
    {
     "data": {
      "text/html": [
       "<div>\n",
       "<style scoped>\n",
       "    .dataframe tbody tr th:only-of-type {\n",
       "        vertical-align: middle;\n",
       "    }\n",
       "\n",
       "    .dataframe tbody tr th {\n",
       "        vertical-align: top;\n",
       "    }\n",
       "\n",
       "    .dataframe thead th {\n",
       "        text-align: right;\n",
       "    }\n",
       "</style>\n",
       "<table border=\"1\" class=\"dataframe\">\n",
       "  <thead>\n",
       "    <tr style=\"text-align: right;\">\n",
       "      <th></th>\n",
       "      <th>Order ID</th>\n",
       "      <th>Country</th>\n",
       "      <th>Item Type</th>\n",
       "      <th>Order Date</th>\n",
       "      <th>Ship Date</th>\n",
       "      <th>Quantity</th>\n",
       "      <th>Sales Price</th>\n",
       "      <th>Unit Cost</th>\n",
       "    </tr>\n",
       "  </thead>\n",
       "  <tbody>\n",
       "    <tr>\n",
       "      <th>0</th>\n",
       "      <td>451691138</td>\n",
       "      <td>Australia</td>\n",
       "      <td>Meat</td>\n",
       "      <td>4/4/2011</td>\n",
       "      <td>5/23/2011</td>\n",
       "      <td>4300</td>\n",
       "      <td>421.89</td>\n",
       "      <td>364.69</td>\n",
       "    </tr>\n",
       "    <tr>\n",
       "      <th>1</th>\n",
       "      <td>144177377</td>\n",
       "      <td>Tajikistan</td>\n",
       "      <td>Personal Care</td>\n",
       "      <td>7/12/2018</td>\n",
       "      <td>8/1/2018</td>\n",
       "      <td>4145</td>\n",
       "      <td>81.73</td>\n",
       "      <td>56.67</td>\n",
       "    </tr>\n",
       "    <tr>\n",
       "      <th>3</th>\n",
       "      <td>784543836</td>\n",
       "      <td>Panama</td>\n",
       "      <td>Personal Care</td>\n",
       "      <td>5/1/2011</td>\n",
       "      <td>5/11/2011</td>\n",
       "      <td>2810</td>\n",
       "      <td>81.73</td>\n",
       "      <td>56.67</td>\n",
       "    </tr>\n",
       "    <tr>\n",
       "      <th>4</th>\n",
       "      <td>137209212</td>\n",
       "      <td>Canada</td>\n",
       "      <td>Fruits</td>\n",
       "      <td>11/15/2013</td>\n",
       "      <td>12/29/2013</td>\n",
       "      <td>2110</td>\n",
       "      <td>9.33</td>\n",
       "      <td>6.92</td>\n",
       "    </tr>\n",
       "    <tr>\n",
       "      <th>10</th>\n",
       "      <td>682902705</td>\n",
       "      <td>Papua New Guinea</td>\n",
       "      <td>Beverages</td>\n",
       "      <td>8/28/2013</td>\n",
       "      <td>9/18/2013</td>\n",
       "      <td>4941</td>\n",
       "      <td>47.45</td>\n",
       "      <td>31.79</td>\n",
       "    </tr>\n",
       "    <tr>\n",
       "      <th>15</th>\n",
       "      <td>643594396</td>\n",
       "      <td>Botswana</td>\n",
       "      <td>Cereal</td>\n",
       "      <td>2/11/2017</td>\n",
       "      <td>2/24/2017</td>\n",
       "      <td>2739</td>\n",
       "      <td>205.70</td>\n",
       "      <td>117.11</td>\n",
       "    </tr>\n",
       "    <tr>\n",
       "      <th>16</th>\n",
       "      <td>778870856</td>\n",
       "      <td>Micronesia</td>\n",
       "      <td>Household</td>\n",
       "      <td>3/25/2017</td>\n",
       "      <td>5/3/2017</td>\n",
       "      <td>4049</td>\n",
       "      <td>668.27</td>\n",
       "      <td>502.54</td>\n",
       "    </tr>\n",
       "    <tr>\n",
       "      <th>18</th>\n",
       "      <td>183577525</td>\n",
       "      <td>Jordan</td>\n",
       "      <td>Beverages</td>\n",
       "      <td>2/29/2020</td>\n",
       "      <td>3/13/2020</td>\n",
       "      <td>3524</td>\n",
       "      <td>47.45</td>\n",
       "      <td>31.79</td>\n",
       "    </tr>\n",
       "  </tbody>\n",
       "</table>\n",
       "</div>"
      ],
      "text/plain": [
       "     Order ID           Country      Item Type  Order Date   Ship Date  \\\n",
       "0   451691138         Australia           Meat    4/4/2011   5/23/2011   \n",
       "1   144177377        Tajikistan  Personal Care   7/12/2018    8/1/2018   \n",
       "3   784543836            Panama  Personal Care    5/1/2011   5/11/2011   \n",
       "4   137209212            Canada         Fruits  11/15/2013  12/29/2013   \n",
       "10  682902705  Papua New Guinea      Beverages   8/28/2013   9/18/2013   \n",
       "15  643594396          Botswana         Cereal   2/11/2017   2/24/2017   \n",
       "16  778870856        Micronesia      Household   3/25/2017    5/3/2017   \n",
       "18  183577525            Jordan      Beverages   2/29/2020   3/13/2020   \n",
       "\n",
       "    Quantity  Sales Price  Unit Cost  \n",
       "0       4300       421.89     364.69  \n",
       "1       4145        81.73      56.67  \n",
       "3       2810        81.73      56.67  \n",
       "4       2110         9.33       6.92  \n",
       "10      4941        47.45      31.79  \n",
       "15      2739       205.70     117.11  \n",
       "16      4049       668.27     502.54  \n",
       "18      3524        47.45      31.79  "
      ]
     },
     "execution_count": 31,
     "metadata": {},
     "output_type": "execute_result"
    }
   ],
   "source": [
    "filtered_cont8 = df1[df1['Quantity'].between(2000, 5000)]\n",
    "filtered_cont8"
   ]
  },
  {
   "cell_type": "markdown",
   "id": "e6b455c5-ddb9-49b2-9154-742c84ee0d34",
   "metadata": {
    "panel-layout": {
     "height": 94.90000915527344,
     "visible": true,
     "width": 100
    }
   },
   "source": [
    "# Filter rows where 'Quantity' greater than 2000 and Two columns  [Country and Quantity] selected for the result"
   ]
  },
  {
   "cell_type": "code",
   "execution_count": 32,
   "id": "dc73a2d7-5682-4e2f-924c-a8af9f5c3fd3",
   "metadata": {
    "panel-layout": {
     "height": 497,
     "visible": true,
     "width": 100
    }
   },
   "outputs": [
    {
     "data": {
      "text/html": [
       "<div>\n",
       "<style scoped>\n",
       "    .dataframe tbody tr th:only-of-type {\n",
       "        vertical-align: middle;\n",
       "    }\n",
       "\n",
       "    .dataframe tbody tr th {\n",
       "        vertical-align: top;\n",
       "    }\n",
       "\n",
       "    .dataframe thead th {\n",
       "        text-align: right;\n",
       "    }\n",
       "</style>\n",
       "<table border=\"1\" class=\"dataframe\">\n",
       "  <thead>\n",
       "    <tr style=\"text-align: right;\">\n",
       "      <th></th>\n",
       "      <th>Country</th>\n",
       "      <th>Quantity</th>\n",
       "    </tr>\n",
       "  </thead>\n",
       "  <tbody>\n",
       "    <tr>\n",
       "      <th>0</th>\n",
       "      <td>Australia</td>\n",
       "      <td>4300</td>\n",
       "    </tr>\n",
       "    <tr>\n",
       "      <th>1</th>\n",
       "      <td>Tajikistan</td>\n",
       "      <td>4145</td>\n",
       "    </tr>\n",
       "    <tr>\n",
       "      <th>2</th>\n",
       "      <td>Mozambique</td>\n",
       "      <td>6407</td>\n",
       "    </tr>\n",
       "    <tr>\n",
       "      <th>3</th>\n",
       "      <td>Panama</td>\n",
       "      <td>2810</td>\n",
       "    </tr>\n",
       "    <tr>\n",
       "      <th>4</th>\n",
       "      <td>Canada</td>\n",
       "      <td>2110</td>\n",
       "    </tr>\n",
       "    <tr>\n",
       "      <th>5</th>\n",
       "      <td>Italy</td>\n",
       "      <td>5092</td>\n",
       "    </tr>\n",
       "    <tr>\n",
       "      <th>6</th>\n",
       "      <td>Romania</td>\n",
       "      <td>9574</td>\n",
       "    </tr>\n",
       "    <tr>\n",
       "      <th>7</th>\n",
       "      <td>Australia</td>\n",
       "      <td>5404</td>\n",
       "    </tr>\n",
       "    <tr>\n",
       "      <th>8</th>\n",
       "      <td>Bosnia and Herzegovina</td>\n",
       "      <td>9463</td>\n",
       "    </tr>\n",
       "    <tr>\n",
       "      <th>10</th>\n",
       "      <td>Papua New Guinea</td>\n",
       "      <td>4941</td>\n",
       "    </tr>\n",
       "    <tr>\n",
       "      <th>13</th>\n",
       "      <td>Slovakia</td>\n",
       "      <td>6164</td>\n",
       "    </tr>\n",
       "    <tr>\n",
       "      <th>14</th>\n",
       "      <td>Eritrea</td>\n",
       "      <td>7820</td>\n",
       "    </tr>\n",
       "    <tr>\n",
       "      <th>15</th>\n",
       "      <td>Botswana</td>\n",
       "      <td>2739</td>\n",
       "    </tr>\n",
       "    <tr>\n",
       "      <th>16</th>\n",
       "      <td>Micronesia</td>\n",
       "      <td>4049</td>\n",
       "    </tr>\n",
       "    <tr>\n",
       "      <th>17</th>\n",
       "      <td>Uzbekistan</td>\n",
       "      <td>6914</td>\n",
       "    </tr>\n",
       "    <tr>\n",
       "      <th>18</th>\n",
       "      <td>Jordan</td>\n",
       "      <td>3524</td>\n",
       "    </tr>\n",
       "    <tr>\n",
       "      <th>19</th>\n",
       "      <td>Micronesia</td>\n",
       "      <td>8104</td>\n",
       "    </tr>\n",
       "  </tbody>\n",
       "</table>\n",
       "</div>"
      ],
      "text/plain": [
       "                   Country  Quantity\n",
       "0                Australia      4300\n",
       "1               Tajikistan      4145\n",
       "2               Mozambique      6407\n",
       "3                   Panama      2810\n",
       "4                   Canada      2110\n",
       "5                    Italy      5092\n",
       "6                  Romania      9574\n",
       "7                Australia      5404\n",
       "8   Bosnia and Herzegovina      9463\n",
       "10        Papua New Guinea      4941\n",
       "13                Slovakia      6164\n",
       "14                 Eritrea      7820\n",
       "15                Botswana      2739\n",
       "16              Micronesia      4049\n",
       "17              Uzbekistan      6914\n",
       "18                  Jordan      3524\n",
       "19              Micronesia      8104"
      ]
     },
     "execution_count": 32,
     "metadata": {},
     "output_type": "execute_result"
    }
   ],
   "source": [
    "filtered_cont7 = df1.loc[df1['Quantity'] > 2000, ('Country','Quantity')]\n",
    "filtered_cont7"
   ]
  },
  {
   "cell_type": "markdown",
   "id": "4faf347c-5330-4a55-a66f-95e47553422d",
   "metadata": {
    "panel-layout": {
     "height": 60.616668701171875,
     "visible": true,
     "width": 100
    }
   },
   "source": [
    "# Filter rows where 'Country' contains 'z'"
   ]
  },
  {
   "cell_type": "code",
   "execution_count": 33,
   "id": "ef8e164a-0e45-44cf-a337-b9925f82b1f0",
   "metadata": {
    "panel-layout": {
     "height": 119,
     "visible": true,
     "width": 100
    }
   },
   "outputs": [
    {
     "data": {
      "text/html": [
       "<div>\n",
       "<style scoped>\n",
       "    .dataframe tbody tr th:only-of-type {\n",
       "        vertical-align: middle;\n",
       "    }\n",
       "\n",
       "    .dataframe tbody tr th {\n",
       "        vertical-align: top;\n",
       "    }\n",
       "\n",
       "    .dataframe thead th {\n",
       "        text-align: right;\n",
       "    }\n",
       "</style>\n",
       "<table border=\"1\" class=\"dataframe\">\n",
       "  <thead>\n",
       "    <tr style=\"text-align: right;\">\n",
       "      <th></th>\n",
       "      <th>Order ID</th>\n",
       "      <th>Country</th>\n",
       "      <th>Item Type</th>\n",
       "      <th>Order Date</th>\n",
       "      <th>Ship Date</th>\n",
       "      <th>Quantity</th>\n",
       "      <th>Sales Price</th>\n",
       "      <th>Unit Cost</th>\n",
       "    </tr>\n",
       "  </thead>\n",
       "  <tbody>\n",
       "    <tr>\n",
       "      <th>2</th>\n",
       "      <td>982716166</td>\n",
       "      <td>Mozambique</td>\n",
       "      <td>Cosmetics</td>\n",
       "      <td>7/6/2011</td>\n",
       "      <td>7/17/2011</td>\n",
       "      <td>6407</td>\n",
       "      <td>437.20</td>\n",
       "      <td>263.33</td>\n",
       "    </tr>\n",
       "    <tr>\n",
       "      <th>8</th>\n",
       "      <td>968161857</td>\n",
       "      <td>Bosnia and Herzegovina</td>\n",
       "      <td>Cosmetics</td>\n",
       "      <td>5/29/2016</td>\n",
       "      <td>6/8/2016</td>\n",
       "      <td>9463</td>\n",
       "      <td>437.20</td>\n",
       "      <td>263.33</td>\n",
       "    </tr>\n",
       "    <tr>\n",
       "      <th>17</th>\n",
       "      <td>551557290</td>\n",
       "      <td>Uzbekistan</td>\n",
       "      <td>Meat</td>\n",
       "      <td>12/11/2017</td>\n",
       "      <td>12/20/2017</td>\n",
       "      <td>6914</td>\n",
       "      <td>421.89</td>\n",
       "      <td>364.69</td>\n",
       "    </tr>\n",
       "  </tbody>\n",
       "</table>\n",
       "</div>"
      ],
      "text/plain": [
       "     Order ID                 Country  Item Type  Order Date   Ship Date  \\\n",
       "2   982716166              Mozambique  Cosmetics    7/6/2011   7/17/2011   \n",
       "8   968161857  Bosnia and Herzegovina  Cosmetics   5/29/2016    6/8/2016   \n",
       "17  551557290              Uzbekistan       Meat  12/11/2017  12/20/2017   \n",
       "\n",
       "    Quantity  Sales Price  Unit Cost  \n",
       "2       6407       437.20     263.33  \n",
       "8       9463       437.20     263.33  \n",
       "17      6914       421.89     364.69  "
      ]
     },
     "execution_count": 33,
     "metadata": {},
     "output_type": "execute_result"
    }
   ],
   "source": [
    "filtered_cont9 = df1[df1['Country'].str.contains('z', case=False)]\n",
    "filtered_cont9"
   ]
  },
  {
   "cell_type": "markdown",
   "id": "4e109c88-2f08-4377-b8cb-fc9d7d2d6aca",
   "metadata": {
    "panel-layout": {
     "height": 60.616668701171875,
     "visible": true,
     "width": 100
    }
   },
   "source": [
    "# Filter rows where 'Country' starts with 'A'"
   ]
  },
  {
   "cell_type": "code",
   "execution_count": 34,
   "id": "f00365af-1aaf-4c51-aed2-38dc3ceea227",
   "metadata": {
    "panel-layout": {
     "height": 92,
     "visible": true,
     "width": 100
    }
   },
   "outputs": [
    {
     "data": {
      "text/html": [
       "<div>\n",
       "<style scoped>\n",
       "    .dataframe tbody tr th:only-of-type {\n",
       "        vertical-align: middle;\n",
       "    }\n",
       "\n",
       "    .dataframe tbody tr th {\n",
       "        vertical-align: top;\n",
       "    }\n",
       "\n",
       "    .dataframe thead th {\n",
       "        text-align: right;\n",
       "    }\n",
       "</style>\n",
       "<table border=\"1\" class=\"dataframe\">\n",
       "  <thead>\n",
       "    <tr style=\"text-align: right;\">\n",
       "      <th></th>\n",
       "      <th>Order ID</th>\n",
       "      <th>Country</th>\n",
       "      <th>Item Type</th>\n",
       "      <th>Order Date</th>\n",
       "      <th>Ship Date</th>\n",
       "      <th>Quantity</th>\n",
       "      <th>Sales Price</th>\n",
       "      <th>Unit Cost</th>\n",
       "    </tr>\n",
       "  </thead>\n",
       "  <tbody>\n",
       "    <tr>\n",
       "      <th>0</th>\n",
       "      <td>451691138</td>\n",
       "      <td>Australia</td>\n",
       "      <td>Meat</td>\n",
       "      <td>4/4/2011</td>\n",
       "      <td>5/23/2011</td>\n",
       "      <td>4300</td>\n",
       "      <td>421.89</td>\n",
       "      <td>364.69</td>\n",
       "    </tr>\n",
       "    <tr>\n",
       "      <th>7</th>\n",
       "      <td>180407369</td>\n",
       "      <td>Australia</td>\n",
       "      <td>Cosmetics</td>\n",
       "      <td>4/30/2019</td>\n",
       "      <td>5/25/2019</td>\n",
       "      <td>5404</td>\n",
       "      <td>437.20</td>\n",
       "      <td>263.33</td>\n",
       "    </tr>\n",
       "  </tbody>\n",
       "</table>\n",
       "</div>"
      ],
      "text/plain": [
       "    Order ID    Country  Item Type Order Date  Ship Date  Quantity  \\\n",
       "0  451691138  Australia       Meat   4/4/2011  5/23/2011      4300   \n",
       "7  180407369  Australia  Cosmetics  4/30/2019  5/25/2019      5404   \n",
       "\n",
       "   Sales Price  Unit Cost  \n",
       "0       421.89     364.69  \n",
       "7       437.20     263.33  "
      ]
     },
     "execution_count": 34,
     "metadata": {},
     "output_type": "execute_result"
    }
   ],
   "source": [
    "filtered_cont10 = df1[df1['Country'].str.startswith('A')]\n",
    "filtered_cont10\n"
   ]
  },
  {
   "cell_type": "markdown",
   "id": "fefe163d-5204-48eb-aec2-f849db368ac9",
   "metadata": {
    "panel-layout": {
     "height": 60.616668701171875,
     "visible": true,
     "width": 100
    }
   },
   "source": [
    "# BASIC SORTING SKILLS"
   ]
  },
  {
   "cell_type": "markdown",
   "id": "3bd8b85e-8a56-4f81-8d36-e111a29cf9d2",
   "metadata": {
    "panel-layout": {
     "height": 50.850006103515625,
     "visible": true,
     "width": 100
    }
   },
   "source": [
    "## Sort by a single column in ascending order (e.g., 'Country')"
   ]
  },
  {
   "cell_type": "code",
   "execution_count": 35,
   "id": "668802bb-b518-4b6d-bfa1-861312c646ac",
   "metadata": {},
   "outputs": [
    {
     "name": "stdout",
     "output_type": "stream",
     "text": [
      "\n",
      "DataFrame Sorted by 'Country' (Ascending):\n",
      "     Order ID                 Country  Item Type Order Date  Ship Date  \\\n",
      "19  417167890              Micronesia     Snacks   8/6/2015   8/8/2015   \n",
      "7   180407369               Australia  Cosmetics  4/30/2019  5/25/2019   \n",
      "0   451691138               Australia       Meat   4/4/2011  5/23/2011   \n",
      "8   968161857  Bosnia and Herzegovina  Cosmetics  5/29/2016   6/8/2016   \n",
      "15  643594396                Botswana     Cereal  2/11/2017  2/24/2017   \n",
      "\n",
      "    Quantity  Sales Price  Unit Cost  \n",
      "19      8104       152.58      97.44  \n",
      "7       5404       437.20     263.33  \n",
      "0       4300       421.89     364.69  \n",
      "8       9463       437.20     263.33  \n",
      "15      2739       205.70     117.11  \n"
     ]
    }
   ],
   "source": [
    "if 'Country' in df1.columns:\n",
    "    sorted_by_id = df1.sort_values(by='Country', ascending=True)\n",
    "    print(\"\\nDataFrame Sorted by 'Country' (Ascending):\")\n",
    "    print(sorted_by_id.head())"
   ]
  },
  {
   "cell_type": "code",
   "execution_count": 36,
   "id": "060a8df0-4d44-4620-9f1b-6357a4bf09f1",
   "metadata": {
    "panel-layout": {
     "height": 578,
     "visible": true,
     "width": 100
    }
   },
   "outputs": [
    {
     "data": {
      "text/html": [
       "<div>\n",
       "<style scoped>\n",
       "    .dataframe tbody tr th:only-of-type {\n",
       "        vertical-align: middle;\n",
       "    }\n",
       "\n",
       "    .dataframe tbody tr th {\n",
       "        vertical-align: top;\n",
       "    }\n",
       "\n",
       "    .dataframe thead th {\n",
       "        text-align: right;\n",
       "    }\n",
       "</style>\n",
       "<table border=\"1\" class=\"dataframe\">\n",
       "  <thead>\n",
       "    <tr style=\"text-align: right;\">\n",
       "      <th></th>\n",
       "      <th>Order ID</th>\n",
       "      <th>Country</th>\n",
       "      <th>Item Type</th>\n",
       "      <th>Order Date</th>\n",
       "      <th>Ship Date</th>\n",
       "      <th>Quantity</th>\n",
       "      <th>Sales Price</th>\n",
       "      <th>Unit Cost</th>\n",
       "    </tr>\n",
       "  </thead>\n",
       "  <tbody>\n",
       "    <tr>\n",
       "      <th>19</th>\n",
       "      <td>417167890</td>\n",
       "      <td>Micronesia</td>\n",
       "      <td>Snacks</td>\n",
       "      <td>8/6/2015</td>\n",
       "      <td>8/8/2015</td>\n",
       "      <td>8104</td>\n",
       "      <td>152.58</td>\n",
       "      <td>97.44</td>\n",
       "    </tr>\n",
       "    <tr>\n",
       "      <th>7</th>\n",
       "      <td>180407369</td>\n",
       "      <td>Australia</td>\n",
       "      <td>Cosmetics</td>\n",
       "      <td>4/30/2019</td>\n",
       "      <td>5/25/2019</td>\n",
       "      <td>5404</td>\n",
       "      <td>437.20</td>\n",
       "      <td>263.33</td>\n",
       "    </tr>\n",
       "    <tr>\n",
       "      <th>0</th>\n",
       "      <td>451691138</td>\n",
       "      <td>Australia</td>\n",
       "      <td>Meat</td>\n",
       "      <td>4/4/2011</td>\n",
       "      <td>5/23/2011</td>\n",
       "      <td>4300</td>\n",
       "      <td>421.89</td>\n",
       "      <td>364.69</td>\n",
       "    </tr>\n",
       "    <tr>\n",
       "      <th>8</th>\n",
       "      <td>968161857</td>\n",
       "      <td>Bosnia and Herzegovina</td>\n",
       "      <td>Cosmetics</td>\n",
       "      <td>5/29/2016</td>\n",
       "      <td>6/8/2016</td>\n",
       "      <td>9463</td>\n",
       "      <td>437.20</td>\n",
       "      <td>263.33</td>\n",
       "    </tr>\n",
       "    <tr>\n",
       "      <th>15</th>\n",
       "      <td>643594396</td>\n",
       "      <td>Botswana</td>\n",
       "      <td>Cereal</td>\n",
       "      <td>2/11/2017</td>\n",
       "      <td>2/24/2017</td>\n",
       "      <td>2739</td>\n",
       "      <td>205.70</td>\n",
       "      <td>117.11</td>\n",
       "    </tr>\n",
       "    <tr>\n",
       "      <th>4</th>\n",
       "      <td>137209212</td>\n",
       "      <td>Canada</td>\n",
       "      <td>Fruits</td>\n",
       "      <td>11/15/2013</td>\n",
       "      <td>12/29/2013</td>\n",
       "      <td>2110</td>\n",
       "      <td>9.33</td>\n",
       "      <td>6.92</td>\n",
       "    </tr>\n",
       "    <tr>\n",
       "      <th>14</th>\n",
       "      <td>894116580</td>\n",
       "      <td>Eritrea</td>\n",
       "      <td>Meat</td>\n",
       "      <td>11/9/2012</td>\n",
       "      <td>12/13/2012</td>\n",
       "      <td>7820</td>\n",
       "      <td>421.89</td>\n",
       "      <td>364.69</td>\n",
       "    </tr>\n",
       "    <tr>\n",
       "      <th>5</th>\n",
       "      <td>148573625</td>\n",
       "      <td>Italy</td>\n",
       "      <td>Fruits</td>\n",
       "      <td>7/16/2016</td>\n",
       "      <td>7/18/2016</td>\n",
       "      <td>5092</td>\n",
       "      <td>9.33</td>\n",
       "      <td>6.92</td>\n",
       "    </tr>\n",
       "    <tr>\n",
       "      <th>9</th>\n",
       "      <td>349185693</td>\n",
       "      <td>Japan</td>\n",
       "      <td>Clothes</td>\n",
       "      <td>3/25/2018</td>\n",
       "      <td>4/8/2018</td>\n",
       "      <td>661</td>\n",
       "      <td>109.28</td>\n",
       "      <td>35.84</td>\n",
       "    </tr>\n",
       "    <tr>\n",
       "      <th>18</th>\n",
       "      <td>183577525</td>\n",
       "      <td>Jordan</td>\n",
       "      <td>Beverages</td>\n",
       "      <td>2/29/2020</td>\n",
       "      <td>3/13/2020</td>\n",
       "      <td>3524</td>\n",
       "      <td>47.45</td>\n",
       "      <td>31.79</td>\n",
       "    </tr>\n",
       "    <tr>\n",
       "      <th>11</th>\n",
       "      <td>349049222</td>\n",
       "      <td>Madagascar</td>\n",
       "      <td>Fruits</td>\n",
       "      <td>6/17/2014</td>\n",
       "      <td>7/10/2014</td>\n",
       "      <td>276</td>\n",
       "      <td>9.33</td>\n",
       "      <td>6.92</td>\n",
       "    </tr>\n",
       "    <tr>\n",
       "      <th>16</th>\n",
       "      <td>778870856</td>\n",
       "      <td>Micronesia</td>\n",
       "      <td>Household</td>\n",
       "      <td>3/25/2017</td>\n",
       "      <td>5/3/2017</td>\n",
       "      <td>4049</td>\n",
       "      <td>668.27</td>\n",
       "      <td>502.54</td>\n",
       "    </tr>\n",
       "    <tr>\n",
       "      <th>2</th>\n",
       "      <td>982716166</td>\n",
       "      <td>Mozambique</td>\n",
       "      <td>Cosmetics</td>\n",
       "      <td>7/6/2011</td>\n",
       "      <td>7/17/2011</td>\n",
       "      <td>6407</td>\n",
       "      <td>437.20</td>\n",
       "      <td>263.33</td>\n",
       "    </tr>\n",
       "    <tr>\n",
       "      <th>3</th>\n",
       "      <td>784543836</td>\n",
       "      <td>Panama</td>\n",
       "      <td>Personal Care</td>\n",
       "      <td>5/1/2011</td>\n",
       "      <td>5/11/2011</td>\n",
       "      <td>2810</td>\n",
       "      <td>81.73</td>\n",
       "      <td>56.67</td>\n",
       "    </tr>\n",
       "    <tr>\n",
       "      <th>10</th>\n",
       "      <td>682902705</td>\n",
       "      <td>Papua New Guinea</td>\n",
       "      <td>Beverages</td>\n",
       "      <td>8/28/2013</td>\n",
       "      <td>9/18/2013</td>\n",
       "      <td>4941</td>\n",
       "      <td>47.45</td>\n",
       "      <td>31.79</td>\n",
       "    </tr>\n",
       "    <tr>\n",
       "      <th>6</th>\n",
       "      <td>196810901</td>\n",
       "      <td>Romania</td>\n",
       "      <td>Beverages</td>\n",
       "      <td>11/15/2012</td>\n",
       "      <td>12/1/2012</td>\n",
       "      <td>9574</td>\n",
       "      <td>47.45</td>\n",
       "      <td>31.79</td>\n",
       "    </tr>\n",
       "    <tr>\n",
       "      <th>12</th>\n",
       "      <td>497674071</td>\n",
       "      <td>Saint Kitts and Nevis</td>\n",
       "      <td>Personal Care</td>\n",
       "      <td>11/11/2017</td>\n",
       "      <td>11/16/2017</td>\n",
       "      <td>1672</td>\n",
       "      <td>81.73</td>\n",
       "      <td>56.67</td>\n",
       "    </tr>\n",
       "    <tr>\n",
       "      <th>13</th>\n",
       "      <td>999138581</td>\n",
       "      <td>Slovakia</td>\n",
       "      <td>Meat</td>\n",
       "      <td>11/26/2011</td>\n",
       "      <td>12/10/2011</td>\n",
       "      <td>6164</td>\n",
       "      <td>421.89</td>\n",
       "      <td>364.69</td>\n",
       "    </tr>\n",
       "    <tr>\n",
       "      <th>1</th>\n",
       "      <td>144177377</td>\n",
       "      <td>Tajikistan</td>\n",
       "      <td>Personal Care</td>\n",
       "      <td>7/12/2018</td>\n",
       "      <td>8/1/2018</td>\n",
       "      <td>4145</td>\n",
       "      <td>81.73</td>\n",
       "      <td>56.67</td>\n",
       "    </tr>\n",
       "    <tr>\n",
       "      <th>17</th>\n",
       "      <td>551557290</td>\n",
       "      <td>Uzbekistan</td>\n",
       "      <td>Meat</td>\n",
       "      <td>12/11/2017</td>\n",
       "      <td>12/20/2017</td>\n",
       "      <td>6914</td>\n",
       "      <td>421.89</td>\n",
       "      <td>364.69</td>\n",
       "    </tr>\n",
       "  </tbody>\n",
       "</table>\n",
       "</div>"
      ],
      "text/plain": [
       "     Order ID                 Country      Item Type  Order Date   Ship Date  \\\n",
       "19  417167890              Micronesia         Snacks    8/6/2015    8/8/2015   \n",
       "7   180407369               Australia      Cosmetics   4/30/2019   5/25/2019   \n",
       "0   451691138               Australia           Meat    4/4/2011   5/23/2011   \n",
       "8   968161857  Bosnia and Herzegovina      Cosmetics   5/29/2016    6/8/2016   \n",
       "15  643594396                Botswana         Cereal   2/11/2017   2/24/2017   \n",
       "4   137209212                  Canada         Fruits  11/15/2013  12/29/2013   \n",
       "14  894116580                 Eritrea           Meat   11/9/2012  12/13/2012   \n",
       "5   148573625                   Italy         Fruits   7/16/2016   7/18/2016   \n",
       "9   349185693                   Japan        Clothes   3/25/2018    4/8/2018   \n",
       "18  183577525                  Jordan      Beverages   2/29/2020   3/13/2020   \n",
       "11  349049222              Madagascar         Fruits   6/17/2014   7/10/2014   \n",
       "16  778870856              Micronesia      Household   3/25/2017    5/3/2017   \n",
       "2   982716166              Mozambique      Cosmetics    7/6/2011   7/17/2011   \n",
       "3   784543836                  Panama  Personal Care    5/1/2011   5/11/2011   \n",
       "10  682902705        Papua New Guinea      Beverages   8/28/2013   9/18/2013   \n",
       "6   196810901                 Romania      Beverages  11/15/2012   12/1/2012   \n",
       "12  497674071  Saint Kitts and Nevis   Personal Care  11/11/2017  11/16/2017   \n",
       "13  999138581                Slovakia           Meat  11/26/2011  12/10/2011   \n",
       "1   144177377              Tajikistan  Personal Care   7/12/2018    8/1/2018   \n",
       "17  551557290              Uzbekistan           Meat  12/11/2017  12/20/2017   \n",
       "\n",
       "    Quantity  Sales Price  Unit Cost  \n",
       "19      8104       152.58      97.44  \n",
       "7       5404       437.20     263.33  \n",
       "0       4300       421.89     364.69  \n",
       "8       9463       437.20     263.33  \n",
       "15      2739       205.70     117.11  \n",
       "4       2110         9.33       6.92  \n",
       "14      7820       421.89     364.69  \n",
       "5       5092         9.33       6.92  \n",
       "9        661       109.28      35.84  \n",
       "18      3524        47.45      31.79  \n",
       "11       276         9.33       6.92  \n",
       "16      4049       668.27     502.54  \n",
       "2       6407       437.20     263.33  \n",
       "3       2810        81.73      56.67  \n",
       "10      4941        47.45      31.79  \n",
       "6       9574        47.45      31.79  \n",
       "12      1672        81.73      56.67  \n",
       "13      6164       421.89     364.69  \n",
       "1       4145        81.73      56.67  \n",
       "17      6914       421.89     364.69  "
      ]
     },
     "execution_count": 36,
     "metadata": {},
     "output_type": "execute_result"
    }
   ],
   "source": [
    "sorted_by_id"
   ]
  },
  {
   "cell_type": "markdown",
   "id": "2661dc12-0669-41ea-b0cb-e2d2e7fb6585",
   "metadata": {
    "panel-layout": {
     "height": 50.850006103515625,
     "visible": true,
     "width": 100
    }
   },
   "source": [
    "## Strip leading/trailing whitespaces and standardise capitalisation & sorting the DataFrame in ascending order by the 'Country' column"
   ]
  },
  {
   "cell_type": "code",
   "execution_count": 37,
   "id": "588092a4-8660-4141-a200-fcd63f16d5d7",
   "metadata": {},
   "outputs": [
    {
     "name": "stdout",
     "output_type": "stream",
     "text": [
      "\n",
      "DataFrame Sorted by 'Country' (Ascending, After Cleaning):\n",
      "     Order ID                 Country  Item Type  Order Date   Ship Date  \\\n",
      "0   451691138               Australia       Meat    4/4/2011   5/23/2011   \n",
      "7   180407369               Australia  Cosmetics   4/30/2019   5/25/2019   \n",
      "8   968161857  Bosnia And Herzegovina  Cosmetics   5/29/2016    6/8/2016   \n",
      "15  643594396                Botswana     Cereal   2/11/2017   2/24/2017   \n",
      "4   137209212                  Canada     Fruits  11/15/2013  12/29/2013   \n",
      "\n",
      "    Quantity  Sales Price  Unit Cost  \n",
      "0       4300       421.89     364.69  \n",
      "7       5404       437.20     263.33  \n",
      "8       9463       437.20     263.33  \n",
      "15      2739       205.70     117.11  \n",
      "4       2110         9.33       6.92  \n"
     ]
    }
   ],
   "source": [
    "if 'Country' in df1.columns:\n",
    "        df1['Country']=df1['Country'].str.strip().str.title() \n",
    "\n",
    "        sorted_df1=df1.sort_values(by='Country', ascending=True)  \n",
    "        print(\"\\nDataFrame Sorted by 'Country' (Ascending, After Cleaning):\")\n",
    "        print(sorted_df1.head())"
   ]
  },
  {
   "cell_type": "code",
   "execution_count": 38,
   "id": "8811731e-766a-4da1-befb-c544179c9623",
   "metadata": {
    "panel-layout": {
     "height": 578,
     "visible": true,
     "width": 100
    }
   },
   "outputs": [
    {
     "data": {
      "text/html": [
       "<div>\n",
       "<style scoped>\n",
       "    .dataframe tbody tr th:only-of-type {\n",
       "        vertical-align: middle;\n",
       "    }\n",
       "\n",
       "    .dataframe tbody tr th {\n",
       "        vertical-align: top;\n",
       "    }\n",
       "\n",
       "    .dataframe thead th {\n",
       "        text-align: right;\n",
       "    }\n",
       "</style>\n",
       "<table border=\"1\" class=\"dataframe\">\n",
       "  <thead>\n",
       "    <tr style=\"text-align: right;\">\n",
       "      <th></th>\n",
       "      <th>Order ID</th>\n",
       "      <th>Country</th>\n",
       "      <th>Item Type</th>\n",
       "      <th>Order Date</th>\n",
       "      <th>Ship Date</th>\n",
       "      <th>Quantity</th>\n",
       "      <th>Sales Price</th>\n",
       "      <th>Unit Cost</th>\n",
       "    </tr>\n",
       "  </thead>\n",
       "  <tbody>\n",
       "    <tr>\n",
       "      <th>0</th>\n",
       "      <td>451691138</td>\n",
       "      <td>Australia</td>\n",
       "      <td>Meat</td>\n",
       "      <td>4/4/2011</td>\n",
       "      <td>5/23/2011</td>\n",
       "      <td>4300</td>\n",
       "      <td>421.89</td>\n",
       "      <td>364.69</td>\n",
       "    </tr>\n",
       "    <tr>\n",
       "      <th>7</th>\n",
       "      <td>180407369</td>\n",
       "      <td>Australia</td>\n",
       "      <td>Cosmetics</td>\n",
       "      <td>4/30/2019</td>\n",
       "      <td>5/25/2019</td>\n",
       "      <td>5404</td>\n",
       "      <td>437.20</td>\n",
       "      <td>263.33</td>\n",
       "    </tr>\n",
       "    <tr>\n",
       "      <th>8</th>\n",
       "      <td>968161857</td>\n",
       "      <td>Bosnia And Herzegovina</td>\n",
       "      <td>Cosmetics</td>\n",
       "      <td>5/29/2016</td>\n",
       "      <td>6/8/2016</td>\n",
       "      <td>9463</td>\n",
       "      <td>437.20</td>\n",
       "      <td>263.33</td>\n",
       "    </tr>\n",
       "    <tr>\n",
       "      <th>15</th>\n",
       "      <td>643594396</td>\n",
       "      <td>Botswana</td>\n",
       "      <td>Cereal</td>\n",
       "      <td>2/11/2017</td>\n",
       "      <td>2/24/2017</td>\n",
       "      <td>2739</td>\n",
       "      <td>205.70</td>\n",
       "      <td>117.11</td>\n",
       "    </tr>\n",
       "    <tr>\n",
       "      <th>4</th>\n",
       "      <td>137209212</td>\n",
       "      <td>Canada</td>\n",
       "      <td>Fruits</td>\n",
       "      <td>11/15/2013</td>\n",
       "      <td>12/29/2013</td>\n",
       "      <td>2110</td>\n",
       "      <td>9.33</td>\n",
       "      <td>6.92</td>\n",
       "    </tr>\n",
       "    <tr>\n",
       "      <th>14</th>\n",
       "      <td>894116580</td>\n",
       "      <td>Eritrea</td>\n",
       "      <td>Meat</td>\n",
       "      <td>11/9/2012</td>\n",
       "      <td>12/13/2012</td>\n",
       "      <td>7820</td>\n",
       "      <td>421.89</td>\n",
       "      <td>364.69</td>\n",
       "    </tr>\n",
       "    <tr>\n",
       "      <th>5</th>\n",
       "      <td>148573625</td>\n",
       "      <td>Italy</td>\n",
       "      <td>Fruits</td>\n",
       "      <td>7/16/2016</td>\n",
       "      <td>7/18/2016</td>\n",
       "      <td>5092</td>\n",
       "      <td>9.33</td>\n",
       "      <td>6.92</td>\n",
       "    </tr>\n",
       "    <tr>\n",
       "      <th>9</th>\n",
       "      <td>349185693</td>\n",
       "      <td>Japan</td>\n",
       "      <td>Clothes</td>\n",
       "      <td>3/25/2018</td>\n",
       "      <td>4/8/2018</td>\n",
       "      <td>661</td>\n",
       "      <td>109.28</td>\n",
       "      <td>35.84</td>\n",
       "    </tr>\n",
       "    <tr>\n",
       "      <th>18</th>\n",
       "      <td>183577525</td>\n",
       "      <td>Jordan</td>\n",
       "      <td>Beverages</td>\n",
       "      <td>2/29/2020</td>\n",
       "      <td>3/13/2020</td>\n",
       "      <td>3524</td>\n",
       "      <td>47.45</td>\n",
       "      <td>31.79</td>\n",
       "    </tr>\n",
       "    <tr>\n",
       "      <th>11</th>\n",
       "      <td>349049222</td>\n",
       "      <td>Madagascar</td>\n",
       "      <td>Fruits</td>\n",
       "      <td>6/17/2014</td>\n",
       "      <td>7/10/2014</td>\n",
       "      <td>276</td>\n",
       "      <td>9.33</td>\n",
       "      <td>6.92</td>\n",
       "    </tr>\n",
       "    <tr>\n",
       "      <th>16</th>\n",
       "      <td>778870856</td>\n",
       "      <td>Micronesia</td>\n",
       "      <td>Household</td>\n",
       "      <td>3/25/2017</td>\n",
       "      <td>5/3/2017</td>\n",
       "      <td>4049</td>\n",
       "      <td>668.27</td>\n",
       "      <td>502.54</td>\n",
       "    </tr>\n",
       "    <tr>\n",
       "      <th>19</th>\n",
       "      <td>417167890</td>\n",
       "      <td>Micronesia</td>\n",
       "      <td>Snacks</td>\n",
       "      <td>8/6/2015</td>\n",
       "      <td>8/8/2015</td>\n",
       "      <td>8104</td>\n",
       "      <td>152.58</td>\n",
       "      <td>97.44</td>\n",
       "    </tr>\n",
       "    <tr>\n",
       "      <th>2</th>\n",
       "      <td>982716166</td>\n",
       "      <td>Mozambique</td>\n",
       "      <td>Cosmetics</td>\n",
       "      <td>7/6/2011</td>\n",
       "      <td>7/17/2011</td>\n",
       "      <td>6407</td>\n",
       "      <td>437.20</td>\n",
       "      <td>263.33</td>\n",
       "    </tr>\n",
       "    <tr>\n",
       "      <th>3</th>\n",
       "      <td>784543836</td>\n",
       "      <td>Panama</td>\n",
       "      <td>Personal Care</td>\n",
       "      <td>5/1/2011</td>\n",
       "      <td>5/11/2011</td>\n",
       "      <td>2810</td>\n",
       "      <td>81.73</td>\n",
       "      <td>56.67</td>\n",
       "    </tr>\n",
       "    <tr>\n",
       "      <th>10</th>\n",
       "      <td>682902705</td>\n",
       "      <td>Papua New Guinea</td>\n",
       "      <td>Beverages</td>\n",
       "      <td>8/28/2013</td>\n",
       "      <td>9/18/2013</td>\n",
       "      <td>4941</td>\n",
       "      <td>47.45</td>\n",
       "      <td>31.79</td>\n",
       "    </tr>\n",
       "    <tr>\n",
       "      <th>6</th>\n",
       "      <td>196810901</td>\n",
       "      <td>Romania</td>\n",
       "      <td>Beverages</td>\n",
       "      <td>11/15/2012</td>\n",
       "      <td>12/1/2012</td>\n",
       "      <td>9574</td>\n",
       "      <td>47.45</td>\n",
       "      <td>31.79</td>\n",
       "    </tr>\n",
       "    <tr>\n",
       "      <th>12</th>\n",
       "      <td>497674071</td>\n",
       "      <td>Saint Kitts And Nevis</td>\n",
       "      <td>Personal Care</td>\n",
       "      <td>11/11/2017</td>\n",
       "      <td>11/16/2017</td>\n",
       "      <td>1672</td>\n",
       "      <td>81.73</td>\n",
       "      <td>56.67</td>\n",
       "    </tr>\n",
       "    <tr>\n",
       "      <th>13</th>\n",
       "      <td>999138581</td>\n",
       "      <td>Slovakia</td>\n",
       "      <td>Meat</td>\n",
       "      <td>11/26/2011</td>\n",
       "      <td>12/10/2011</td>\n",
       "      <td>6164</td>\n",
       "      <td>421.89</td>\n",
       "      <td>364.69</td>\n",
       "    </tr>\n",
       "    <tr>\n",
       "      <th>1</th>\n",
       "      <td>144177377</td>\n",
       "      <td>Tajikistan</td>\n",
       "      <td>Personal Care</td>\n",
       "      <td>7/12/2018</td>\n",
       "      <td>8/1/2018</td>\n",
       "      <td>4145</td>\n",
       "      <td>81.73</td>\n",
       "      <td>56.67</td>\n",
       "    </tr>\n",
       "    <tr>\n",
       "      <th>17</th>\n",
       "      <td>551557290</td>\n",
       "      <td>Uzbekistan</td>\n",
       "      <td>Meat</td>\n",
       "      <td>12/11/2017</td>\n",
       "      <td>12/20/2017</td>\n",
       "      <td>6914</td>\n",
       "      <td>421.89</td>\n",
       "      <td>364.69</td>\n",
       "    </tr>\n",
       "  </tbody>\n",
       "</table>\n",
       "</div>"
      ],
      "text/plain": [
       "     Order ID                 Country      Item Type  Order Date   Ship Date  \\\n",
       "0   451691138               Australia           Meat    4/4/2011   5/23/2011   \n",
       "7   180407369               Australia      Cosmetics   4/30/2019   5/25/2019   \n",
       "8   968161857  Bosnia And Herzegovina      Cosmetics   5/29/2016    6/8/2016   \n",
       "15  643594396                Botswana         Cereal   2/11/2017   2/24/2017   \n",
       "4   137209212                  Canada         Fruits  11/15/2013  12/29/2013   \n",
       "14  894116580                 Eritrea           Meat   11/9/2012  12/13/2012   \n",
       "5   148573625                   Italy         Fruits   7/16/2016   7/18/2016   \n",
       "9   349185693                   Japan        Clothes   3/25/2018    4/8/2018   \n",
       "18  183577525                  Jordan      Beverages   2/29/2020   3/13/2020   \n",
       "11  349049222              Madagascar         Fruits   6/17/2014   7/10/2014   \n",
       "16  778870856              Micronesia      Household   3/25/2017    5/3/2017   \n",
       "19  417167890              Micronesia         Snacks    8/6/2015    8/8/2015   \n",
       "2   982716166              Mozambique      Cosmetics    7/6/2011   7/17/2011   \n",
       "3   784543836                  Panama  Personal Care    5/1/2011   5/11/2011   \n",
       "10  682902705        Papua New Guinea      Beverages   8/28/2013   9/18/2013   \n",
       "6   196810901                 Romania      Beverages  11/15/2012   12/1/2012   \n",
       "12  497674071   Saint Kitts And Nevis  Personal Care  11/11/2017  11/16/2017   \n",
       "13  999138581                Slovakia           Meat  11/26/2011  12/10/2011   \n",
       "1   144177377              Tajikistan  Personal Care   7/12/2018    8/1/2018   \n",
       "17  551557290              Uzbekistan           Meat  12/11/2017  12/20/2017   \n",
       "\n",
       "    Quantity  Sales Price  Unit Cost  \n",
       "0       4300       421.89     364.69  \n",
       "7       5404       437.20     263.33  \n",
       "8       9463       437.20     263.33  \n",
       "15      2739       205.70     117.11  \n",
       "4       2110         9.33       6.92  \n",
       "14      7820       421.89     364.69  \n",
       "5       5092         9.33       6.92  \n",
       "9        661       109.28      35.84  \n",
       "18      3524        47.45      31.79  \n",
       "11       276         9.33       6.92  \n",
       "16      4049       668.27     502.54  \n",
       "19      8104       152.58      97.44  \n",
       "2       6407       437.20     263.33  \n",
       "3       2810        81.73      56.67  \n",
       "10      4941        47.45      31.79  \n",
       "6       9574        47.45      31.79  \n",
       "12      1672        81.73      56.67  \n",
       "13      6164       421.89     364.69  \n",
       "1       4145        81.73      56.67  \n",
       "17      6914       421.89     364.69  "
      ]
     },
     "execution_count": 38,
     "metadata": {},
     "output_type": "execute_result"
    }
   ],
   "source": [
    "sorted_df1"
   ]
  },
  {
   "cell_type": "markdown",
   "id": "8373f9bd-752a-4568-877a-febc96dbd153",
   "metadata": {
    "panel-layout": {
     "height": 212.5,
     "visible": true,
     "width": 100
    }
   },
   "source": [
    "### Explanation: The sorted_by_id data frame above was sorted in ascending order by country. unfortunately, while sorting, the row with index 19 appeared as the first row in variance with the sorting order and the structure of the strings in the column. There could be the presence of whitespaces or issues of standardised capitalisation on the column [Country]. \n",
    "### To solve the Problem, two functions were introduced in the code\n",
    "### 1. .str.strip() -white spacing\n",
    "### 2.  .str. title() – standardise capitalisation.\n",
    "### The two functions are likened to the TRIM () and PROPER () functions in Microsoft Excel. The functions (.str.strip()) strip leading whitespace, and While (.str.title()) function handles standardize capitalization of the strings in the column."
   ]
  },
  {
   "cell_type": "markdown",
   "id": "6fbb5451-0707-4c8d-9af2-adb67c9feb87",
   "metadata": {
    "panel-layout": {
     "height": 60.616668701171875,
     "visible": true,
     "width": 100
    }
   },
   "source": [
    "# BASIC DATA CLEANING"
   ]
  },
  {
   "cell_type": "markdown",
   "id": "423e9d00-6d84-4fde-9f34-8fe68af27461",
   "metadata": {
    "panel-layout": {
     "height": 50.850006103515625,
     "visible": true,
     "width": 100
    }
   },
   "source": [
    "## Inspecting the  df2 on the dataset"
   ]
  },
  {
   "cell_type": "code",
   "execution_count": 39,
   "id": "5d9f31bc-242a-4b7a-9335-c2fd363e3339",
   "metadata": {
    "panel-layout": {
     "height": 0,
     "visible": true,
     "width": 100
    }
   },
   "outputs": [
    {
     "name": "stdout",
     "output_type": "stream",
     "text": [
      "(20, 3)\n"
     ]
    }
   ],
   "source": [
    "print(df2.shape)"
   ]
  },
  {
   "cell_type": "markdown",
   "id": "a473657a-9b7b-4660-8354-91d5b32966ab",
   "metadata": {
    "panel-layout": {
     "height": 50.850006103515625,
     "visible": true,
     "width": 100
    }
   },
   "source": [
    "## Summary of the dataframe"
   ]
  },
  {
   "cell_type": "code",
   "execution_count": 40,
   "id": "a445cc01-2137-48b4-8f01-81303c94b6ee",
   "metadata": {
    "panel-layout": {
     "height": 0,
     "visible": true,
     "width": 100
    }
   },
   "outputs": [
    {
     "name": "stdout",
     "output_type": "stream",
     "text": [
      "<class 'pandas.core.frame.DataFrame'>\n",
      "RangeIndex: 20 entries, 0 to 19\n",
      "Data columns (total 3 columns):\n",
      " #   Column     Non-Null Count  Dtype  \n",
      "---  ------     --------------  -----  \n",
      " 0   Order ID   20 non-null     int64  \n",
      " 1   Item Type  20 non-null     object \n",
      " 2   Discounts  17 non-null     float64\n",
      "dtypes: float64(1), int64(1), object(1)\n",
      "memory usage: 612.0+ bytes\n",
      "None\n"
     ]
    }
   ],
   "source": [
    "print(df2.info())      "
   ]
  },
  {
   "cell_type": "markdown",
   "id": "05df9e89-5de5-4f99-ba9f-421ad4c508d7",
   "metadata": {
    "panel-layout": {
     "height": 50.850006103515625,
     "visible": true,
     "width": 100
    }
   },
   "source": [
    "## Basic descrptive statistics of the  numerical columns"
   ]
  },
  {
   "cell_type": "code",
   "execution_count": 41,
   "id": "7aedd4fd-caba-4239-8440-879afee9527b",
   "metadata": {
    "panel-layout": {
     "height": 0,
     "visible": true,
     "width": 100
    }
   },
   "outputs": [
    {
     "name": "stdout",
     "output_type": "stream",
     "text": [
      "           Order ID  Discounts\n",
      "count  2.000000e+01  17.000000\n",
      "mean   5.558758e+08   0.634706\n",
      "std    3.133418e+08   0.231142\n",
      "min    1.372092e+08   0.110000\n",
      "25%    3.109896e+08   0.540000\n",
      "50%    5.246157e+08   0.690000\n",
      "75%    8.119370e+08   0.790000\n",
      "max    9.991386e+08   0.920000\n"
     ]
    }
   ],
   "source": [
    "print(df2.describe()) "
   ]
  },
  {
   "cell_type": "markdown",
   "id": "d3ed0a82-07f0-4362-9db2-59654f57f262",
   "metadata": {
    "panel-layout": {
     "height": 50.850006103515625,
     "visible": true,
     "width": 100
    }
   },
   "source": [
    "## Count missing values in each columns"
   ]
  },
  {
   "cell_type": "code",
   "execution_count": 42,
   "id": "8eef8231-b919-4618-a26b-9bfbeeabb626",
   "metadata": {
    "panel-layout": {
     "height": 0,
     "visible": true,
     "width": 100
    }
   },
   "outputs": [
    {
     "name": "stdout",
     "output_type": "stream",
     "text": [
      "Order ID     0\n",
      "Item Type    0\n",
      "Discounts    3\n",
      "dtype: int64\n"
     ]
    }
   ],
   "source": [
    "print(df2.isnull().sum())  "
   ]
  },
  {
   "cell_type": "markdown",
   "id": "867e1ef0-6bf6-415f-b278-82573d3bec57",
   "metadata": {
    "panel-layout": {
     "height": 50.850006103515625,
     "visible": true,
     "width": 100
    }
   },
   "source": [
    "## Fill the missing value with a specific value [0]"
   ]
  },
  {
   "cell_type": "code",
   "execution_count": 43,
   "id": "8167db07-ca05-44f7-827b-290036070880",
   "metadata": {},
   "outputs": [],
   "source": [
    "df2['Discounts']=df2['Discounts'].fillna(0)\n"
   ]
  },
  {
   "cell_type": "code",
   "execution_count": 44,
   "id": "7ae69d4c-22d3-4caf-a9c0-f321e553a577",
   "metadata": {
    "panel-layout": {
     "height": 0,
     "visible": true,
     "width": 100
    }
   },
   "outputs": [
    {
     "name": "stdout",
     "output_type": "stream",
     "text": [
      "0     0.69\n",
      "1     0.67\n",
      "2     0.33\n",
      "3     0.67\n",
      "4     0.00\n",
      "5     0.92\n",
      "6     0.79\n",
      "7     0.33\n",
      "8     0.33\n",
      "9     0.84\n",
      "10    0.79\n",
      "11    0.92\n",
      "12    0.00\n",
      "13    0.69\n",
      "14    0.69\n",
      "15    0.11\n",
      "16    0.54\n",
      "17    0.69\n",
      "18    0.79\n",
      "19    0.00\n",
      "Name: Discounts, dtype: float64\n"
     ]
    }
   ],
   "source": [
    "print(df2['Discounts'])"
   ]
  },
  {
   "cell_type": "markdown",
   "id": "99178c90-8235-4939-af42-1c8e785dc090",
   "metadata": {
    "panel-layout": {
     "height": 50.850006103515625,
     "visible": true,
     "width": 100
    }
   },
   "source": [
    "## Fill specific missing values based on index"
   ]
  },
  {
   "cell_type": "code",
   "execution_count": 45,
   "id": "6a83a244-bf2f-438c-b479-09c19c345449",
   "metadata": {
    "panel-layout": {
     "height": 0,
     "visible": true,
     "width": 100
    }
   },
   "outputs": [
    {
     "name": "stdout",
     "output_type": "stream",
     "text": [
      "     Order ID      Item Type  Discounts\n",
      "0   451691138           Meat       0.69\n",
      "1   144177377  Personal Care       0.67\n",
      "2   982716166      Cosmetics       0.33\n",
      "3   784543836  Personal Care       0.67\n",
      "4   137209212         Fruits       0.67\n",
      "5   137209212         Fruits       0.92\n",
      "6   196810901      Beverages       0.79\n",
      "7   968161857      Cosmetics       0.33\n",
      "8   968161857      Cosmetics       0.33\n",
      "9   349185693        Clothes       0.84\n",
      "10  682902705      Beverages       0.79\n",
      "11  349049222         Fruits       0.92\n",
      "12  497674071  Personal Care       0.45\n",
      "13  999138581           Meat       0.69\n",
      "14  894116580           Meat       0.69\n",
      "15  643594396         Cereal       0.11\n",
      "16  778870856      Household       0.54\n",
      "17  551557290           Meat       0.69\n",
      "18  183577525      Beverages       0.79\n",
      "19  417167890         Snacks       0.76\n"
     ]
    }
   ],
   "source": [
    "df2.loc[4, 'Discounts'] = 0.67  # Fill index 4\n",
    "df2.loc[12, 'Discounts'] = 0.45 # Fill index 12\n",
    "df2.loc[19, 'Discounts'] = 0.76 # Fill index 19\n",
    "print(df2)"
   ]
  },
  {
   "cell_type": "markdown",
   "id": "cc9a4353-005f-4cd7-8acc-9331007708ab",
   "metadata": {
    "panel-layout": {
     "height": 44.083343505859375,
     "visible": true,
     "width": 100
    }
   },
   "source": [
    "### Compare output in 44 to 46 "
   ]
  },
  {
   "cell_type": "markdown",
   "id": "f407a7b3-c744-4116-ae06-44604d21d8ce",
   "metadata": {
    "panel-layout": {
     "height": 50.850006103515625,
     "visible": true,
     "width": 100
    }
   },
   "source": [
    "## Renaming Column : Discount to My_Discounts"
   ]
  },
  {
   "cell_type": "code",
   "execution_count": 46,
   "id": "9e63fefb-24b7-4e7a-b1be-e0d0b4bcc301",
   "metadata": {
    "panel-layout": {
     "height": 0,
     "visible": true,
     "width": 100
    }
   },
   "outputs": [
    {
     "name": "stdout",
     "output_type": "stream",
     "text": [
      "\n",
      "Modified DataFrame:\n",
      "     Order ID      Item Type   My_Discounts\n",
      "0   451691138           Meat           0.69\n",
      "1   144177377  Personal Care           0.67\n",
      "2   982716166      Cosmetics           0.33\n",
      "3   784543836  Personal Care           0.67\n",
      "4   137209212         Fruits           0.67\n",
      "5   137209212         Fruits           0.92\n",
      "6   196810901      Beverages           0.79\n",
      "7   968161857      Cosmetics           0.33\n",
      "8   968161857      Cosmetics           0.33\n",
      "9   349185693        Clothes           0.84\n",
      "10  682902705      Beverages           0.79\n",
      "11  349049222         Fruits           0.92\n",
      "12  497674071  Personal Care           0.45\n",
      "13  999138581           Meat           0.69\n",
      "14  894116580           Meat           0.69\n",
      "15  643594396         Cereal           0.11\n",
      "16  778870856      Household           0.54\n",
      "17  551557290           Meat           0.69\n",
      "18  183577525      Beverages           0.79\n",
      "19  417167890         Snacks           0.76\n"
     ]
    }
   ],
   "source": [
    "df2.rename(columns={'Discounts':' My_Discounts'}, inplace=True)\n",
    "\n",
    "print(\"\\nModified DataFrame:\")\n",
    "print(df2)"
   ]
  },
  {
   "cell_type": "code",
   "execution_count": 47,
   "id": "4cac68a0-6eb9-4373-93c2-4b795c31b951",
   "metadata": {
    "panel-layout": {
     "height": 0,
     "visible": true,
     "width": 100
    }
   },
   "outputs": [
    {
     "name": "stdout",
     "output_type": "stream",
     "text": [
      "     Order ID      Item Type   My_Discounts\n",
      "0   451691138           Meat           0.69\n",
      "1   144177377  Personal Care           0.67\n",
      "2   982716166      Cosmetics           0.33\n",
      "3   784543836  Personal Care           0.67\n",
      "4   137209212         Fruits           0.67\n",
      "5   137209212         Fruits           0.92\n",
      "6   196810901      Beverages           0.79\n",
      "7   968161857      Cosmetics           0.33\n",
      "9   349185693        Clothes           0.84\n",
      "10  682902705      Beverages           0.79\n",
      "11  349049222         Fruits           0.92\n",
      "12  497674071  Personal Care           0.45\n",
      "13  999138581           Meat           0.69\n",
      "14  894116580           Meat           0.69\n",
      "15  643594396         Cereal           0.11\n",
      "16  778870856      Household           0.54\n",
      "17  551557290           Meat           0.69\n",
      "18  183577525      Beverages           0.79\n",
      "19  417167890         Snacks           0.76\n"
     ]
    }
   ],
   "source": [
    "df2.drop_duplicates(inplace=True)\n",
    "print(df2)"
   ]
  },
  {
   "cell_type": "code",
   "execution_count": 48,
   "id": "37d9f057-fa89-40da-a70f-3c3efdf93dcc",
   "metadata": {
    "panel-layout": {
     "height": 0,
     "visible": true,
     "width": 100
    }
   },
   "outputs": [
    {
     "name": "stdout",
     "output_type": "stream",
     "text": [
      "    Order ID Item Type   My_Discounts\n",
      "5  137209212    Fruits           0.92\n"
     ]
    }
   ],
   "source": [
    "duplicates = df2.duplicated(subset=['Order ID', 'Item Type'])\n",
    "print(df2[duplicates])"
   ]
  },
  {
   "cell_type": "code",
   "execution_count": 49,
   "id": "f63c48ac-c058-4527-bacb-4971c82bc2dc",
   "metadata": {
    "panel-layout": {
     "height": 0,
     "visible": true,
     "width": 100
    }
   },
   "outputs": [
    {
     "name": "stdout",
     "output_type": "stream",
     "text": [
      "     Order ID      Item Type   My_Discounts\n",
      "0   451691138           Meat           0.69\n",
      "1   144177377  Personal Care           0.67\n",
      "2   982716166      Cosmetics           0.33\n",
      "3   784543836  Personal Care           0.67\n",
      "4   137209212         Fruits           0.67\n",
      "6   196810901      Beverages           0.79\n",
      "7   968161857      Cosmetics           0.33\n",
      "9   349185693        Clothes           0.84\n",
      "10  682902705      Beverages           0.79\n",
      "11  349049222         Fruits           0.92\n",
      "12  497674071  Personal Care           0.45\n",
      "13  999138581           Meat           0.69\n",
      "14  894116580           Meat           0.69\n",
      "15  643594396         Cereal           0.11\n",
      "16  778870856      Household           0.54\n",
      "17  551557290           Meat           0.69\n",
      "18  183577525      Beverages           0.79\n",
      "19  417167890         Snacks           0.76\n"
     ]
    }
   ],
   "source": [
    "df2.drop_duplicates(subset=['Order ID', 'Item Type'], inplace=True)\n",
    "print(df2)"
   ]
  },
  {
   "cell_type": "code",
   "execution_count": 50,
   "id": "060a6bf6-9b77-4260-9cdf-a6933d0cdadb",
   "metadata": {
    "panel-layout": {
     "height": 0,
     "visible": true,
     "width": 100
    }
   },
   "outputs": [
    {
     "name": "stdout",
     "output_type": "stream",
     "text": [
      "(18, 3)\n"
     ]
    }
   ],
   "source": [
    "print(df2.shape)"
   ]
  },
  {
   "cell_type": "markdown",
   "id": "28cdc242-6d76-4f6f-956a-c3b15bbc6e02",
   "metadata": {},
   "source": [
    "### Index 5 in datafrme 45 dropped"
   ]
  },
  {
   "cell_type": "markdown",
   "id": "952d624d-26ba-4c4b-8858-08a2ab41e5e8",
   "metadata": {
    "panel-layout": {
     "height": 44.083343505859375,
     "visible": true,
     "width": 100
    }
   },
   "source": [
    "### Every expert was once a novice !. The only difference is consistent effort fueled by genuine interest. — Omenihu Giles "
   ]
  }
 ],
 "metadata": {
  "kernelspec": {
   "display_name": "Python 3 (ipykernel)",
   "language": "python",
   "name": "python3"
  },
  "language_info": {
   "codemirror_mode": {
    "name": "ipython",
    "version": 3
   },
   "file_extension": ".py",
   "mimetype": "text/x-python",
   "name": "python",
   "nbconvert_exporter": "python",
   "pygments_lexer": "ipython3",
   "version": "3.12.7"
  },
  "panel-cell-order": [
   "1d8fcc21-b6aa-48e9-8754-43f1951d3055",
   "82056919-5962-4d83-9527-1b39f016df78",
   "211db223-fe71-48b7-9822-3d81d8369740",
   "2e5ce797-2266-43f6-aca1-d48b8c9d73bf",
   "abb61a1a-0943-451d-a6f9-c6984b37ab18",
   "72a6ee2f-15c8-476d-812a-f344afc6d33e",
   "aa0c7f8c-bac7-444c-b15e-5ac00e14d068",
   "980deddc-f7ca-4b54-ac37-4f99f4dbc5cd",
   "40ce3d1c-ac8d-415e-b9d5-6bc53e827d7b",
   "935cea3f-8b34-40bc-a7d9-f4c23d8ebc69",
   "45ae7bfd-8cc5-4960-bd81-1806f948e15c",
   "76918c98-b848-435f-978d-534a051c7ae8",
   "63e73de3-f2a6-409d-b60d-b461edacda4b",
   "b940c30b-9a8a-48c7-a315-dcf474deda4e",
   "338c2372-8724-4f2e-8888-c55b76f2100b",
   "42ac826a-6484-4e2e-86ab-1fd0a221a0b9",
   "f0994cea-38a5-4407-88ae-d70d633c5c1c",
   "f914afee-505e-403f-9972-152ff0af5c0e",
   "1f76faba-2460-4ee7-b84a-f3b96be831dd",
   "55ce5b6b-09ce-4947-b6b8-6a26b4822ac9",
   "a16f38fc-84a4-4a7d-8cc3-0f584c6be0c6",
   "5a160f8d-e46a-429b-879f-4ffe38179948",
   "a7d43c90-8a53-43a5-852e-8cceed2a833a",
   "6a5beee7-bd07-489f-8611-7be1855abe3c",
   "6daa7750-786d-4c7f-af9f-290f353a73c3",
   "418f3a16-f566-4e86-8ada-fb353a954677",
   "c7df3d45-5598-4405-b80a-40e82562bbee",
   "9d8e6978-4779-4975-a540-50f5e699efe2",
   "ac2b46f1-bade-4338-b3e2-602c9144897a",
   "2d064375-1c52-4e21-93a0-2b3b5669befc",
   "959b7b05-9d0e-4cba-976a-8e5972bd87c7",
   "d0822cd0-7269-4b3e-9a80-3ee9322b5ff2",
   "683a7388-09a7-443b-8350-329bc9f4f134",
   "f6989985-c356-42a9-aa1f-cb920b1b42f3",
   "38c07405-ea34-4ed9-859b-5d145f81ea45",
   "21d65033-60d7-4a0c-8537-2929288964ec",
   "3cb6a979-03ff-4a43-96d1-ca50b3d0e17b",
   "e44032e7-4d28-4cf9-9a8c-ff56451bac5c",
   "8849bcea-938e-48b7-bc17-792ac99e9798",
   "83acda22-6847-4fd0-9fa4-8bc952692981",
   "92ec8b48-7252-463e-9f0c-abe4cf0c57ae",
   "c1de6396-1f5f-4637-89b1-79cfa2c22e36",
   "b6aa54dd-7f6f-4603-b3d3-76a1934483b8",
   "e39d49f7-5cdf-4afa-b456-ad4c951a97da",
   "23fce5f6-bd08-4abb-9d92-0bec267c01d1",
   "c6047b81-3d27-4ea2-b19c-26e1861d6e79",
   "ae7bba42-d593-4f27-9ba7-efb1f6460eaa",
   "62a29b67-2d07-488b-83f4-f4303908f358",
   "ef7ece70-cafd-415a-b286-677bde7c774e",
   "d9536341-e156-4aa8-a5ee-b2ddea531522",
   "e6b455c5-ddb9-49b2-9154-742c84ee0d34",
   "dc73a2d7-5682-4e2f-924c-a8af9f5c3fd3",
   "4faf347c-5330-4a55-a66f-95e47553422d",
   "ef8e164a-0e45-44cf-a337-b9925f82b1f0",
   "4e109c88-2f08-4377-b8cb-fc9d7d2d6aca",
   "f00365af-1aaf-4c51-aed2-38dc3ceea227",
   "fefe163d-5204-48eb-aec2-f849db368ac9",
   "3bd8b85e-8a56-4f81-8d36-e111a29cf9d2",
   "060a8df0-4d44-4620-9f1b-6357a4bf09f1",
   "2661dc12-0669-41ea-b0cb-e2d2e7fb6585",
   "8811731e-766a-4da1-befb-c544179c9623",
   "8373f9bd-752a-4568-877a-febc96dbd153",
   "6fbb5451-0707-4c8d-9af2-adb67c9feb87",
   "423e9d00-6d84-4fde-9f34-8fe68af27461",
   "5d9f31bc-242a-4b7a-9335-c2fd363e3339",
   "a473657a-9b7b-4660-8354-91d5b32966ab",
   "a445cc01-2137-48b4-8f01-81303c94b6ee",
   "05df9e89-5de5-4f99-ba9f-421ad4c508d7",
   "7aedd4fd-caba-4239-8440-879afee9527b",
   "d3ed0a82-07f0-4362-9db2-59654f57f262",
   "8eef8231-b919-4618-a26b-9bfbeeabb626",
   "867e1ef0-6bf6-415f-b278-82573d3bec57",
   "7ae69d4c-22d3-4caf-a9c0-f321e553a577",
   "99178c90-8235-4939-af42-1c8e785dc090",
   "6a83a244-bf2f-438c-b479-09c19c345449",
   "cc9a4353-005f-4cd7-8acc-9331007708ab",
   "f407a7b3-c744-4116-ae06-44604d21d8ce",
   "9e63fefb-24b7-4e7a-b1be-e0d0b4bcc301",
   "4cac68a0-6eb9-4373-93c2-4b795c31b951",
   "37d9f057-fa89-40da-a70f-3c3efdf93dcc",
   "f63c48ac-c058-4527-bacb-4971c82bc2dc",
   "060a6bf6-9b77-4260-9cdf-a6933d0cdadb",
   "952d624d-26ba-4c4b-8858-08a2ab41e5e8"
  ]
 },
 "nbformat": 4,
 "nbformat_minor": 5
}
